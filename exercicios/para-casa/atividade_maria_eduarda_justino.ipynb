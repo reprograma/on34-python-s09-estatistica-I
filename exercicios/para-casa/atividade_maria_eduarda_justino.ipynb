{
 "cells": [
  {
   "cell_type": "code",
   "execution_count": null,
   "metadata": {},
   "outputs": [],
   "source": []
  },
  {
   "cell_type": "markdown",
   "metadata": {},
   "source": [
    "Exercício 1: Identificação de Tipos de Dados\n",
    "\n",
    "Classifique os seguintes dados em qualitativos (nominais ou ordinais) ou\n",
    "quantitativos (discretos ou contínuos):\n",
    "\n",
    "Número de irmãos - quantitativo discreto\n",
    "\n",
    "Notas de um exame (A, B, C, D, F) - qualitativo ordinal\n",
    "\n",
    "Altura de uma pessoa - quantitativo contínuo\n",
    "\n",
    "Cores favoritas - qualitativo nominal\n",
    "\n",
    "Salário anual - quantitativo contínuo"
   ]
  },
  {
   "cell_type": "markdown",
   "metadata": {},
   "source": [
    "Exercício 2: Classificação de Variáveis\n",
    "\n",
    "Identifique se as variáveis a seguir são qualitativas nominais, qualitativas\n",
    "ordinais, quantitativas discretas ou quantitativas contínuas:\n",
    "\n",
    "Cor dos olhos (azul, castanho, verde) - qualitativa nominal\n",
    "\n",
    "Nível de satisfação em uma escala de 1 a 5 - qualitativo ordinal\n",
    "\n",
    "Número de carros em uma garagem - quantitativo discreto\n",
    "\n",
    "Temperatura medida em graus Celsius - quantitativo contínuo\n",
    "\n",
    "Classificação de filmes (ótimo, bom, regular, ruim) - qualitativo ordinal\n",
    "\n",
    "Peso de um saco de arroz - quantitativo contínuo"
   ]
  },
  {
   "cell_type": "markdown",
   "metadata": {},
   "source": []
  },
  {
   "cell_type": "code",
   "execution_count": 6,
   "metadata": {},
   "outputs": [
    {
     "name": "stdout",
     "output_type": "stream",
     "text": [
      "A média do conjunto é de:  30.0\n",
      "A mediana é igual a 30\n",
      "A moda conjunto [10, 20, 30, 40, 50] é não há moda\n"
     ]
    }
   ],
   "source": [
    "#Exercício 3: Pratique o cálculo de média, mediana e moda\n",
    "conjunto = [10, 20, 30, 40, 50]\n",
    "\n",
    "media = sum(conjunto)/len(conjunto)\n",
    "print(\"A média do conjunto é de: \", media)\n",
    "\n",
    "conjunto.sort()\n",
    "dimensao = len(conjunto)\n",
    "mediana = conjunto[dimensao//2]\n",
    "print(f'A mediana é igual a {mediana}')\n",
    "\n",
    "\n",
    "frequencia = {}\n",
    "for num in conjunto:\n",
    "    if num in frequencia:\n",
    "        frequencia[num] += 1\n",
    "    else:\n",
    "        frequencia[num] = 1\n",
    "\n",
    "freq_max = max(frequencia.values())\n",
    "\n",
    "if freq_max == 1:\n",
    "    moda = \"não há moda\"\n",
    "else:\n",
    "    moda = [num for num, freq in frequencia.items() if freq == freq_max]\n",
    "\n",
    "print(f'A moda conjunto {conjunto} é {moda}.')"
   ]
  },
  {
   "cell_type": "code",
   "execution_count": 8,
   "metadata": {},
   "outputs": [
    {
     "name": "stdout",
     "output_type": "stream",
     "text": [
      "A mediana é igual a 3\n"
     ]
    }
   ],
   "source": [
    "# Exercício 4: Cálculo da Mediana\n",
    "conjunto =  [1, 3, 4, 2, 5]\n",
    "conjunto.sort()\n",
    "dimensao = len(conjunto)\n",
    "mediana = conjunto[dimensao//2]\n",
    "print(f'A mediana é igual a {mediana}')"
   ]
  },
  {
   "cell_type": "code",
   "execution_count": 9,
   "metadata": {},
   "outputs": [
    {
     "name": "stdout",
     "output_type": "stream",
     "text": [
      "A moda conjunto [1, 2, 2, 3, 4, 4, 4, 5, 5] é [4].\n"
     ]
    }
   ],
   "source": [
    "# Exercício 5: Cálculo da Moda\n",
    "conjunto = [1, 2, 2, 3, 4, 4, 4, 5, 5]\n",
    "\n",
    "frequencia = {}\n",
    "for num in conjunto:\n",
    "    if num in frequencia:\n",
    "        frequencia[num] += 1\n",
    "    else:\n",
    "        frequencia[num] = 1\n",
    "\n",
    "freq_max = max(frequencia.values())\n",
    "\n",
    "if freq_max == 1:\n",
    "    moda = \"não há moda\"\n",
    "else:\n",
    "    moda = [num for num, freq in frequencia.items() if freq == freq_max]\n",
    "\n",
    "print(f'A moda conjunto {conjunto} é {moda}.')"
   ]
  },
  {
   "cell_type": "code",
   "execution_count": 16,
   "metadata": {},
   "outputs": [
    {
     "name": "stdout",
     "output_type": "stream",
     "text": [
      "[2.81, 5.94, 9.3, 3.17, 7.38, 3.12, 2.65, 3.33, 2.5, 1.32, 8.34, 9.54, 0.34, 0.74, 5.09, 9.52, 1.71, 4.9, 4.58, 0.73, 4.74, 8.51, 3.13, 6.79, 9.42, 7.87, 4.59, 0.82, 4.07, 5.18]\n",
      "A média aritmética das notas da escola é de: 4.74\n",
      "A mediana das notas é igual a 4.585\n",
      "A moda das notas é não há moda.\n"
     ]
    }
   ],
   "source": [
    "# Exercício 6: Análise de Notas de Alunos\n",
    "import random\n",
    "notas_alunos = [round(random.uniform(0, 10), 2) for _ in range(30)]\n",
    "print(notas_alunos)\n",
    "media = round(sum(notas_alunos)/len(notas_alunos), 2)\n",
    "print(f'A média aritmética das notas da escola é de: {media}')\n",
    "\n",
    "notas_alunos.sort()\n",
    "dimensao = len(notas_alunos)\n",
    "mediana = (notas_alunos[dimensao// 2-1] + notas_alunos[dimensao//2]) / 2\n",
    "print(f'A mediana das notas é igual a {mediana}')\n",
    "\n",
    "\n",
    "frequencia = {}\n",
    "for num in notas_alunos:\n",
    "    if num in frequencia:\n",
    "        frequencia[num] += 1\n",
    "    else:\n",
    "        frequencia[num] = 1\n",
    "\n",
    "freq_max = max(frequencia.values())\n",
    "\n",
    "if freq_max == 1:\n",
    "    moda = \"não há moda\"\n",
    "else:\n",
    "    moda = [num for num, freq in frequencia.items() if freq == freq_max]\n",
    "\n",
    "print(f'A moda das notas é {moda}.')\n"
   ]
  },
  {
   "cell_type": "code",
   "execution_count": 3,
   "metadata": {},
   "outputs": [
    {
     "name": "stdout",
     "output_type": "stream",
     "text": [
      "Confirmando o numéro de vendas de cada produto - P1: 4, P2: 5, P3: 1 e P4: 9\n",
      "Média aritmética das unidades vendidas: 4.75\n",
      "Mediana das unidades vendidas: 4.5\n",
      "O produto mais vendido: não há moda.\n"
     ]
    }
   ],
   "source": [
    "# Exercício 7: Análise de Vendas de Produtos\n",
    "\n",
    "P1 = int(input(\"Digite o numéro de vendas do produto com ID P1: \"))\n",
    "P2 = int(input(\"Digite o numéro de vendas do produto com ID P2: \"))\n",
    "P3 = int(input(\"Digite o numéro de vendas do produto com ID P3: \"))\n",
    "P4 = int(input(\"Digite o numéro de vendas do produto com ID P4: \"))\n",
    "\n",
    "vendas_produtos = [P1, P2, P3, P4]\n",
    "print(f'Confirmando o numéro de vendas de cada produto - P1: {P1}, P2: {P2}, P3: {P3} e P4: {P4}')\n",
    "\n",
    "media = sum(vendas_produtos)/len(vendas_produtos)\n",
    "print(f'Média aritmética das unidades vendidas: {media}')\n",
    "\n",
    "vendas_produtos.sort()\n",
    "dimensao = len(vendas_produtos)\n",
    "mediana = (vendas_produtos[dimensao// 2-1] + vendas_produtos[dimensao//2]) / 2\n",
    "print(f'Mediana das unidades vendidas: {mediana}')\n",
    "\n",
    "\n",
    "frequencia = {}\n",
    "for num in vendas_produtos:\n",
    "    if num in frequencia:\n",
    "        frequencia[num] += 1\n",
    "    else:\n",
    "        frequencia[num] = 1\n",
    "\n",
    "freq_max = max(frequencia.values())\n",
    "\n",
    "if freq_max == 1:\n",
    "    moda = \"não há moda\"\n",
    "else:\n",
    "    moda = [num for num, freq in frequencia.items() if freq == freq_max]\n",
    "    ID_mais_vendido = vendas_produtos.index(max(vendas_produtos))\n",
    "    print(f'O código do produto mais vendido é: P{ID_mais_vendido}')\n",
    "\n",
    "print(f'O produto mais vendido: {moda}.')\n"
   ]
  },
  {
   "cell_type": "code",
   "execution_count": 35,
   "metadata": {},
   "outputs": [
    {
     "name": "stdout",
     "output_type": "stream",
     "text": [
      "As temperaturas em Celsius para o mês de fevereiro estão listadas a seguir:\n",
      "[28.67, 35.6, 27.51, 23.49, 30.67, 29.74, 30.19, 28.78, 25.15, 33.0, 32.16, 26.85, 34.25, 33.38, 28.68, 27.53, 29.94, 23.4, 32.03, 28.01, 25.36, 31.13, 33.3, 31.65, 26.12, 29.05, 29.37, 24.34, 33.89]\n",
      "A média das temperaturas em Recife no mês de fevereiro foi de 29.42\n",
      "A mediana das temperaturas em Recife no mês de fevereiro foi igual a 29.37\n",
      "A moda das temperaturas é [28, 29, 33].\n"
     ]
    }
   ],
   "source": [
    "# Exercício 8: Análise de Temperaturas\n",
    "import random\n",
    "fevereiro_temperaturas = [round(random.uniform(23, 36), 2) for _ in range(29)]\n",
    "print('As temperaturas em Celsius para o mês de fevereiro estão listadas a seguir:')\n",
    "print(fevereiro_temperaturas)\n",
    "\n",
    "media = round(sum(fevereiro_temperaturas)/len(fevereiro_temperaturas), 2)\n",
    "print(f\"A média das temperaturas em Recife no mês de fevereiro foi de {media}\")\n",
    "\n",
    "fevereiro_temperaturas.sort()\n",
    "dimensao = len(fevereiro_temperaturas)\n",
    "mediana = fevereiro_temperaturas[dimensao// 2]\n",
    "print(f'A mediana das temperaturas em Recife no mês de fevereiro foi igual a {mediana}')\n",
    "\n",
    "frequencia = {}\n",
    "for num in fevereiro_temperaturas:\n",
    "    parte_inteira = int(num)\n",
    "    if parte_inteira in frequencia:\n",
    "        frequencia[parte_inteira] += 1\n",
    "    else:\n",
    "        frequencia[parte_inteira] = 1\n",
    "\n",
    "freq_max = max(frequencia.values())\n",
    "\n",
    "if freq_max == 1:\n",
    "    moda = \"não há moda\"\n",
    "else:\n",
    "    moda = [num for num, freq in frequencia.items() if freq == freq_max]\n",
    "\n",
    "print(f'A moda das temperaturas é {moda}.')\n",
    "\n"
   ]
  },
  {
   "cell_type": "code",
   "execution_count": 11,
   "metadata": {},
   "outputs": [
    {
     "name": "stdout",
     "output_type": "stream",
     "text": [
      "Variância Amostral:48.2\n",
      "Desvio padrão amostral: 6.942621983083913\n"
     ]
    }
   ],
   "source": [
    "# Exercício 9: Você tem a seguinte amostra de dados:\n",
    "# Calcule a variância amostral e o desvio padrão\n",
    "import math\n",
    "amostra = [12, 15, 20, 22, 30]\n",
    "\n",
    "media =  sum(amostra)/len(amostra)\n",
    "\n",
    "soma_quadrados = sum((x - media) ** 2 for x in amostra)\n",
    "variancia_amostral = soma_quadrados / (len(amostra) - 1)\n",
    "print(f'Variância Amostral:{variancia_amostral}')\n",
    "\n",
    "\n",
    "desvio_padrao = math.sqrt(variancia_amostral)\n",
    "print(f'Desvio padrão amostral: {desvio_padrao}')"
   ]
  },
  {
   "cell_type": "code",
   "execution_count": 13,
   "metadata": {},
   "outputs": [
    {
     "name": "stdout",
     "output_type": "stream",
     "text": [
      "Variância Amostral:24.266666666666666\n",
      "Desvio padrão amostral: 4.926120853842978\n"
     ]
    }
   ],
   "source": [
    "# Exercício 10: Dada a amostra de dados, calcular variância e  desvio\n",
    "import math\n",
    "amostra = [5, 7, 9, 10, 15, 18]\n",
    "\n",
    "media =  sum(amostra)/len(amostra)\n",
    "\n",
    "soma_quadrados = sum((x - media) ** 2 for x in amostra)\n",
    "variancia_amostral = soma_quadrados / (len(amostra) - 1)\n",
    "print(f'Variância Amostral:{variancia_amostral}')\n",
    "\n",
    "\n",
    "desvio_padrao = math.sqrt(variancia_amostral)\n",
    "print(f'Desvio padrão amostral: {desvio_padrao}')"
   ]
  },
  {
   "cell_type": "code",
   "execution_count": 14,
   "metadata": {},
   "outputs": [
    {
     "name": "stdout",
     "output_type": "stream",
     "text": [
      "Variância Amostral:81.90476190476191\n",
      "Desvio padrão amostral: 9.050124966251124\n"
     ]
    }
   ],
   "source": [
    "# Exercício 11: Dada a amostra de dados, calcular variância e  desvio\n",
    "import math\n",
    "amostra = [23, 29, 31, 35, 40, 42, 50]\n",
    "\n",
    "media =  sum(amostra)/len(amostra)\n",
    "\n",
    "soma_quadrados = sum((x - media) ** 2 for x in amostra)\n",
    "variancia_amostral = soma_quadrados / (len(amostra) - 1)\n",
    "print(f'Variância Amostral:{variancia_amostral}')\n",
    "\n",
    "\n",
    "desvio_padrao = math.sqrt(variancia_amostral)\n",
    "print(f'Desvio padrão amostral: {desvio_padrao}')"
   ]
  },
  {
   "cell_type": "code",
   "execution_count": 15,
   "metadata": {},
   "outputs": [
    {
     "name": "stdout",
     "output_type": "stream",
     "text": [
      "Variância Amostral:26.125\n",
      "Desvio padrão amostral: 5.111262075065218\n"
     ]
    }
   ],
   "source": [
    "# Exercício 12: Dada a amostra de dados, calcular variância e  desvio\n",
    "amostra = [3, 6, 8, 10, 12, 14, 16, 18]\n",
    "\n",
    "media =  sum(amostra)/len(amostra)\n",
    "\n",
    "soma_quadrados = sum((x - media) ** 2 for x in amostra)\n",
    "variancia_amostral = soma_quadrados / (len(amostra) - 1)\n",
    "print(f'Variância Amostral:{variancia_amostral}')\n",
    "\n",
    "\n",
    "desvio_padrao = math.sqrt(variancia_amostral)\n",
    "print(f'Desvio padrão amostral: {desvio_padrao}')"
   ]
  },
  {
   "cell_type": "code",
   "execution_count": 16,
   "metadata": {},
   "outputs": [
    {
     "name": "stdout",
     "output_type": "stream",
     "text": [
      "Variância Amostral:58.099999999999994\n",
      "Desvio padrão amostral: 7.622335600063802\n"
     ]
    }
   ],
   "source": [
    "# Exercício 13: Dada a amostra de dados, calcular variância e  desvio\n",
    "import math\n",
    "amostra = [50, 52, 55, 57, 60, 62, 65, 68, 70, 72]\n",
    "\n",
    "media =  sum(amostra)/len(amostra)\n",
    "\n",
    "soma_quadrados = sum((x - media) ** 2 for x in amostra)\n",
    "variancia_amostral = soma_quadrados / (len(amostra) - 1)\n",
    "print(f'Variância Amostral:{variancia_amostral}')\n",
    "\n",
    "\n",
    "desvio_padrao = math.sqrt(variancia_amostral)\n",
    "print(f'Desvio padrão amostral: {desvio_padrao}')"
   ]
  },
  {
   "cell_type": "code",
   "execution_count": 21,
   "metadata": {},
   "outputs": [
    {
     "name": "stdout",
     "output_type": "stream",
     "text": [
      "A probabiilidade de tirar uma bola vermelha é de 60.0% e de retirar uma azul é de 40.0%. E a probabilidade de tirar uma vermelha ou uma azul é de 100%.\n"
     ]
    }
   ],
   "source": [
    "# Exercício 14: Suponha que em uma urna há 3 bolas... PROBABILIDADE\n",
    "\n",
    "probabilidade_vermelha = 3/5\n",
    "probabilidade_azul = 2/5\n",
    "\n",
    "print(f'A probabiilidade de tirar uma bola vermelha é de {probabilidade_vermelha*100}% e de retirar uma azul é de {probabilidade_azul*100}%. E a probabilidade de tirar uma vermelha ou uma azul é de 100%.')\n",
    "\n",
    "\n"
   ]
  },
  {
   "cell_type": "code",
   "execution_count": 23,
   "metadata": {},
   "outputs": [
    {
     "name": "stdout",
     "output_type": "stream",
     "text": [
      "A probabilidade de obter um número par ou um número menor que 4 é de: 83.33333333333334%.\n"
     ]
    }
   ],
   "source": [
    "# Exercício 15: Um dado justo de 6 faces é lançado...\n",
    "# numero par: 3/6 e menor que 4: 3/6, assim faz-se a união (soma)\n",
    "\n",
    "prob_par = 3/6\n",
    "prob_menor_4 = 3/6\n",
    "prob_par_e_menor_4 = 1/6 #o 2 é uma intersecção\n",
    "prob_par_ou_menor_4 = prob_par + prob_menor_4 - prob_par_e_menor_4\n",
    "\n",
    "print(f'A probabilidade de obter um número par ou um número menor que 4 é de: {prob_par_ou_menor_4*100}%.')\n"
   ]
  },
  {
   "cell_type": "code",
   "execution_count": 24,
   "metadata": {},
   "outputs": [
    {
     "name": "stdout",
     "output_type": "stream",
     "text": [
      "A probabilidade de obter um número menor que 4 ou um número maior que 7 é de: 60.0%.\n"
     ]
    }
   ],
   "source": [
    "# Exercício 16: Uma caixa contém 10 bilhetes numerados ...\n",
    "prob_menor_4 = 3/10\n",
    "prob_maior_7 = 3/10\n",
    "prob_menor4_ou_maior7 = prob_menor_4 + prob_maior_7\n",
    "\n",
    "print(f'A probabilidade de obter um número menor que 4 ou um número maior que 7 é de: {prob_menor4_ou_maior7*100}%.')"
   ]
  },
  {
   "cell_type": "code",
   "execution_count": 28,
   "metadata": {},
   "outputs": [
    {
     "name": "stdout",
     "output_type": "stream",
     "text": [
      "A probabilidade de obter cara na moeda e um número maior que 4 no dado é de 17.0%.\n"
     ]
    }
   ],
   "source": [
    "#Exercício 17: Você lança uma moeda justa e, em seguida, lança um dado justo. \n",
    "prob_cara = 1/2\n",
    "prob_maior_4 = 2/6\n",
    "prob_cara_e_maior_4 = round(prob_cara * prob_maior_4, 2)\n",
    "\n",
    "print(f'A probabilidade de obter cara na moeda e um número maior que 4 no dado é de {prob_cara_e_maior_4*100}%.')"
   ]
  },
  {
   "cell_type": "code",
   "execution_count": 39,
   "metadata": {},
   "outputs": [
    {
     "name": "stdout",
     "output_type": "stream",
     "text": [
      " 1.25% é a probabilidade de escolher uma camiseta de cor azul e um par de sapatos pretos.\n"
     ]
    }
   ],
   "source": [
    "# Exercício 18: Você escolhe uma peça de roupa \n",
    "prob_camisa_azul = 1/10\n",
    "prob_sapatos_preto = 1/8\n",
    "\n",
    "prob_camisa_sapatos = prob_camisa_azul*prob_sapatos_preto\n",
    "print(f' {prob_camisa_sapatos*100}% é a probabilidade de escolher uma camiseta de cor azul e um par de sapatos pretos.')"
   ]
  },
  {
   "cell_type": "code",
   "execution_count": 41,
   "metadata": {},
   "outputs": [
    {
     "name": "stdout",
     "output_type": "stream",
     "text": [
      "[422, 52, 105, 547, 798, 117, 998, 828, 868, 162, 499, 233, 304, 31, 82, 935, 175, 562, 957, 590, 755, 980, 225, 677, 127, 727, 918, 713, 516, 55, 973, 632, 873, 987, 182, 469, 796, 291, 26, 825, 187, 627, 878, 194, 997, 312, 237, 804, 282, 356, 143, 491, 66, 693, 58, 723, 293, 522, 181, 564, 182, 522, 10, 360, 728, 665, 672, 497, 278, 100, 638, 553, 353, 963, 652, 482, 72, 591, 535, 568, 26, 359, 220, 245, 487, 696, 631, 63, 44, 343, 816, 348, 504, 733, 662, 686, 32, 194, 544, 705, 420, 175, 609, 627, 565, 806, 450, 776, 286, 40, 700, 423, 404, 256, 94, 731, 705, 199, 415, 948, 856, 253, 43, 575, 863, 674, 681, 174, 641, 763, 96, 690, 46, 659, 663, 436, 398, 381, 536, 42, 360, 684, 943, 433, 918, 634, 622, 267, 128, 416, 166, 26, 160, 89, 154, 186, 634, 579, 249, 494, 628, 9, 53, 163, 406, 330, 118, 189, 854, 121, 158, 374, 691, 294, 276, 183, 119, 434, 45, 426, 510, 955, 367, 262, 522, 683, 676, 84, 92, 996, 967, 487, 400, 335, 328, 327, 621, 245, 456, 547, 564, 353, 583, 523, 541, 84, 107, 706, 69, 486, 15, 494, 622, 71, 360, 542, 673, 985, 808, 772, 908, 204, 427, 584, 225, 224, 438, 83, 740, 831, 51, 95, 620, 199, 821, 742, 571, 311, 788, 3, 453, 365, 268, 869, 47, 309, 624, 630, 984, 871, 444, 374, 715, 243, 906, 93, 400, 292, 423, 99, 148, 610, 10, 896, 759, 920, 745, 595, 128, 573, 478, 460, 108, 208, 147, 391, 461, 560, 414, 283, 799, 137, 361, 410, 501, 391, 3, 48, 306, 959, 550, 520, 469, 48, 691, 496, 1, 188, 198, 855, 589, 482, 513, 999, 315, 906, 489, 284, 752, 629, 491, 758, 274, 617, 793, 982, 922, 301, 674, 725, 305, 964, 450, 4, 362, 960, 207, 558, 860, 549, 940, 564, 869, 646, 598, 105, 101, 916, 862, 208, 860, 42, 68, 780, 736, 873, 215, 626, 231, 745, 661, 824, 296, 541, 184, 926, 733, 474, 296, 480, 922, 401, 915, 370, 500, 399, 559, 333, 311, 595, 316, 825, 935, 347, 895, 306, 24, 114, 334, 226, 79, 404, 762, 406, 427, 514, 764, 574, 864, 323, 423, 107, 94, 124, 967, 732, 936, 521, 598, 78, 509, 558, 994, 410, 770, 538, 954, 90, 521, 159, 565, 384, 254, 763, 323, 704, 161, 125, 491, 288, 836, 180, 260, 810, 708, 121, 82, 281, 876, 527, 500, 140, 944, 245, 478, 802, 763, 159, 120, 156, 899, 448, 752, 727, 192, 785, 754, 945, 612, 864, 780, 472, 627, 907, 753, 980, 935, 293, 935, 407, 827, 775, 352, 299, 315, 813, 784, 103, 571, 860, 492, 520, 238, 374, 265, 288, 383, 295, 129, 39, 691, 909, 496, 282, 200, 865, 729, 600, 811, 806, 391, 459, 509, 635, 391, 850, 28, 416, 984, 927, 139, 426, 594, 338, 714, 92, 83, 648, 287, 748, 983, 341, 357, 908, 900, 729, 578, 436, 881, 731, 512, 290, 525, 842, 880, 473, 591, 131, 843, 587, 497, 854, 896, 808, 106, 388, 30, 833, 574, 110, 175, 219, 80, 990, 30, 945, 613, 650, 324, 319, 710, 24, 507, 942, 384, 531, 272, 165, 965, 945, 314, 318, 801, 657, 185, 357, 71, 76, 120, 744, 870, 387, 742, 829, 340, 30, 367, 939, 985, 865, 440, 226, 296, 701, 619, 376, 609, 573, 206, 492, 104, 31, 868, 367, 623, 241, 168, 590, 200, 750, 586, 783, 686, 713, 82, 733, 707, 102, 385, 655, 251, 300, 435, 29, 404, 16, 590, 234, 443, 384, 660, 116, 922, 102, 957, 377, 191, 451, 932, 581, 956, 302, 371, 11, 692, 651, 577, 390, 481, 682, 884, 331, 533, 409, 688, 533, 18, 743, 683, 362, 554, 780, 37, 613, 607, 859, 947, 332, 499, 757, 918, 648, 295, 64, 424, 108, 665, 70, 934, 486, 436, 797, 819, 903, 711, 635, 737, 401, 105, 860, 342, 313, 348, 379, 602, 948, 865, 631, 574, 88, 926, 742, 752, 735, 360, 978, 88, 648, 873, 336, 445, 288, 70, 224, 191, 116, 645, 792, 370, 336, 532, 50, 852, 234, 606, 550, 969, 583, 763, 348, 665, 488, 862, 630, 609, 62, 1000, 796, 170, 350, 237, 351, 416, 88, 366, 412, 259, 828, 636, 572, 559, 79, 376, 104, 870, 442, 376, 348, 196, 364, 885, 668, 286, 331, 208, 742, 770, 69, 841, 872, 537, 691, 756, 700, 332, 972, 157, 812, 498, 650, 74, 342, 481, 378, 505, 35, 799, 15, 10, 7, 956, 873, 932, 800, 872, 216, 941, 64, 521, 842, 195, 816, 786, 503, 495, 350, 93, 128, 350, 476, 189, 730, 541, 511, 111, 932, 32, 211, 41, 453, 87, 896, 133, 233, 977, 834, 300, 473, 231, 728, 524, 986, 723, 41, 426, 412, 145, 752, 887, 970, 917, 390, 392, 343, 728, 796, 421, 849, 371, 270, 50, 562, 177, 346, 576, 76, 767, 668, 417, 67, 976, 682, 380, 384, 898, 531, 551, 241, 991, 909, 447, 3, 420, 656, 181, 222, 465, 652, 488, 471, 792, 668, 313, 224, 58, 389, 748, 54, 591, 666, 296, 211, 122, 335, 232, 195, 957, 300, 920, 599, 579, 253, 344, 739, 355, 743, 113, 166, 800, 341, 187, 600, 135, 440, 752, 847, 673, 730, 573, 197, 450, 902, 175, 526, 467, 840, 441, 928, 984, 457, 906, 178, 565, 809, 426, 23, 865, 192, 870, 934, 546, 645, 229, 839, 23, 950, 234, 201, 906, 660, 933, 456, 707, 309, 612, 302, 808, 477, 159, 511, 238, 626, 528, 715, 676, 229, 435, 42, 239, 21, 604, 547, 175, 133, 952, 265, 232, 962, 660, 179, 253, 655, 317, 778, 801, 203, 423, 119, 490, 288, 848, 818, 154, 3, 428, 228, 451, 111, 199, 992, 609, 251, 498, 466, 73, 610, 576, 676, 906, 795]\n",
      "Variância Amostral:84536.227\n",
      "Desvio padrão amostral: 290.751\n"
     ]
    }
   ],
   "source": [
    "#Exercício 19: Você tem uma lista de 1000 números inteiros aleatórios entre 1 e 1000.\n",
    "import random\n",
    "mil_numeros = [random.randint(1, 1000) for _ in range(1000)]\n",
    "print(mil_numeros)\n",
    "\n",
    "amostra = random.sample(mil_numeros, 50)\n",
    "\n",
    "media =  sum(amostra)/len(amostra)\n",
    "\n",
    "soma_quadrados = sum((x - media) ** 2 for x in amostra)\n",
    "variancia_amostral = round(soma_quadrados / (len(amostra) - 1),3)\n",
    "print(f'Variância Amostral:{variancia_amostral}')\n",
    "\n",
    "\n",
    "desvio_padrao = round(math.sqrt(variancia_amostral),3)\n",
    "print(f'Desvio padrão amostral: {desvio_padrao}')\n"
   ]
  },
  {
   "cell_type": "code",
   "execution_count": 42,
   "metadata": {},
   "outputs": [
    {
     "name": "stdout",
     "output_type": "stream",
     "text": [
      "Amostra Estratificada: [('A', 54), ('A', 21), ('A', 1), ('A', 12), ('A', 52), ('A', 86), ('A', 78), ('A', 37), ('A', 96), ('A', 38), ('B', 151), ('B', 41), ('B', 193), ('B', 182), ('B', 35), ('B', 7), ('B', 114), ('B', 168), ('B', 12), ('B', 191), ('B', 141), ('B', 45), ('B', 135), ('B', 94), ('B', 113), ('B', 171), ('B', 102), ('B', 95), ('B', 58), ('B', 126), ('C', 156), ('C', 43), ('C', 144), ('C', 188), ('C', 235), ('C', 236), ('C', 5), ('C', 293), ('C', 145), ('C', 248), ('C', 168), ('C', 291), ('C', 213), ('C', 75), ('C', 180), ('C', 63), ('C', 104), ('C', 246), ('C', 288), ('C', 258), ('C', 129), ('C', 108), ('C', 30), ('C', 92), ('C', 46), ('C', 54), ('C', 186), ('C', 192), ('C', 241), ('C', 112)]\n"
     ]
    }
   ],
   "source": [
    "import random\n",
    "\n",
    "populacao = [('A', i) for i in range(100)] + [('B', i) for i in range(200)] + [('C', i) for i in range(300)]\n",
    "\n",
    "grupo_a = [item for item in populacao if item[0] == 'A']\n",
    "grupo_b = [item for item in populacao if item[0] == 'B']\n",
    "grupo_c = [item for item in populacao if item[0] == 'C']\n",
    "\n",
    "tamanho_amostra_a = len(grupo_a) // 10\n",
    "tamanho_amostra_b = len(grupo_b) // 10\n",
    "tamanho_amostra_c = len(grupo_c) // 10\n",
    "\n",
    "# amostras aleatórias de cada grupo\n",
    "amostra_a = random.sample(grupo_a, tamanho_amostra_a)\n",
    "amostra_b = random.sample(grupo_b, tamanho_amostra_b)\n",
    "amostra_c = random.sample(grupo_c, tamanho_amostra_c)\n",
    "\n",
    "amostra_estratificada = amostra_a + amostra_b + amostra_c\n",
    "\n",
    "print(\"Amostra Estratificada:\", amostra_estratificada)\n"
   ]
  },
  {
   "cell_type": "code",
   "execution_count": null,
   "metadata": {},
   "outputs": [],
   "source": []
  },
  {
   "cell_type": "code",
   "execution_count": null,
   "metadata": {},
   "outputs": [],
   "source": []
  },
  {
   "cell_type": "code",
   "execution_count": null,
   "metadata": {},
   "outputs": [],
   "source": []
  },
  {
   "cell_type": "code",
   "execution_count": null,
   "metadata": {},
   "outputs": [],
   "source": []
  }
 ],
 "metadata": {
  "kernelspec": {
   "display_name": "Python 3",
   "language": "python",
   "name": "python3"
  },
  "language_info": {
   "codemirror_mode": {
    "name": "ipython",
    "version": 3
   },
   "file_extension": ".py",
   "mimetype": "text/x-python",
   "name": "python",
   "nbconvert_exporter": "python",
   "pygments_lexer": "ipython3",
   "version": "3.12.3"
  }
 },
 "nbformat": 4,
 "nbformat_minor": 2
}
