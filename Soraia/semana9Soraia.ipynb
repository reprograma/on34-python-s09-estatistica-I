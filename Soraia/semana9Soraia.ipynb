{
  "cells": [
    {
      "cell_type": "markdown",
      "metadata": {
        "id": "7fnLgNV5_aSJ"
      },
      "source": [
        "Exercício 1: Identificação de Tipos de Dados\n",
        "Classifique os seguintes dados em qualitativos (nominais ou ordinais) ou\n",
        "quantitativos (discretos ou contínuos):\n",
        " Número de irmãos\n",
        " Notas de um exame (A, B, C, D, F)\n",
        " Altura de uma pessoa\n",
        " Cores favoritas\n",
        " Salário anual\n"
      ]
    },
    {
      "cell_type": "markdown",
      "metadata": {},
      "source": [
        "Resposta 1:\n",
        " Número de irmãos = Quantitativo discreto\n",
        " Notas de um exame (A, B, C, D, F) = Quantitativo discreto\n",
        " Altura de uma pessoa = Quantitativo contínuo\n",
        " Cores favoritas = Qualitativo nominal\n",
        " Salário anual = Quantitativo contínuo"
      ]
    },
    {
      "cell_type": "markdown",
      "metadata": {
        "id": "vz9DUF5u_gJn"
      },
      "source": [
        "Exercício 2: Classificação de Variáveis\n",
        "Identifique se as variáveis a seguir são qualitativas nominais, qualitativas\n",
        "ordinais, quantitativas discretas ou quantitativas contínuas:\n",
        " Cor dos olhos (azul, castanho, verde)\n",
        " Nível de satisfação em uma escala de 1 a 5\n",
        " Número de carros em uma garagem\n",
        " Temperatura medida em graus Celsius\n",
        " Classificação de filmes (ótimo, bom, regular, ruim)\n",
        " Peso de um saco de arroz"
      ]
    },
    {
      "cell_type": "markdown",
      "metadata": {},
      "source": [
        "Resposta 2:\n",
        " Cor dos olhos (azul, castanho, verde) = Qualitativo nominal\n",
        " Nível de satisfação em uma escala de 1 a 5 = Qualitativo ordinal\n",
        " Número de carros em uma garagem = Quantitativo discreto\n",
        " Temperatura medida em graus Celsius = Quantitativo contínuo\n",
        " Classificação de filmes (ótimo, bom, regular, ruim) = Qualitativo ordinal\n",
        " Peso de um saco de arroz = Quantitativo discreto"
      ]
    },
    {
      "cell_type": "markdown",
      "metadata": {
        "id": "zgqPHAL-_ogX"
      },
      "source": [
        "Exercício 3: Pratique o cálculo de média Python.\n",
        "Dado um conjunto de números, calcule a média aritmética desses números.\n",
        "Conjunto: `[10, 20, 30, 40, 50]`"
      ]
    },
    {
      "cell_type": "code",
      "execution_count": 53,
      "metadata": {},
      "outputs": [
        {
          "name": "stdout",
          "output_type": "stream",
          "text": [
            "A média do conjunto de números é: 30.0\n"
          ]
        }
      ],
      "source": [
        "numeros = [10, 20, 30, 40, 50]\n",
        "media = (sum(numeros))/len(numeros)\n",
        "print(\"A média do conjunto de números é:\", media)"
      ]
    },
    {
      "cell_type": "markdown",
      "metadata": {
        "id": "5ftKw55B_rWk"
      },
      "source": [
        "Exercício 4: Cálculo da Mediana\n",
        "Dado um conjunto de números, calcule a mediana. A mediana é o valor central\n",
        "de um conjunto de números ordenados.\n",
        "Conjunto: `[1, 3, 4, 2, 5]`"
      ]
    },
    {
      "cell_type": "code",
      "execution_count": 54,
      "metadata": {},
      "outputs": [
        {
          "name": "stdout",
          "output_type": "stream",
          "text": [
            "A mediana do conjunto é: 3\n"
          ]
        }
      ],
      "source": [
        "numeros = [1, 3, 4, 2, 5]\n",
        "numeros.sort()\n",
        "tamanho = len(numeros)\n",
        "mediana = numeros[tamanho//2] \n",
        "print(\"A mediana do conjunto é:\", mediana)"
      ]
    },
    {
      "cell_type": "markdown",
      "metadata": {
        "id": "dggb2SNB_wvZ"
      },
      "source": [
        "Exercício 5: Cálculo da Moda\n",
        "Dado um conjunto de números, encontre a moda. A moda é o número que\n",
        "aparece com maior frequência no conjunto.\n",
        "Conjunto: `[1, 2, 2, 3, 4, 4, 4, 5, 5]`"
      ]
    },
    {
      "cell_type": "code",
      "execution_count": 55,
      "metadata": {},
      "outputs": [
        {
          "name": "stdout",
          "output_type": "stream",
          "text": [
            "A moda do conjunto é: 4\n"
          ]
        }
      ],
      "source": [
        "numeros = [1, 2, 2, 3, 4, 4, 4, 5, 5]\n",
        "frequencia = {}\n",
        "for num in numeros:\n",
        "    if num in frequencia:\n",
        "        frequencia[num] += 1\n",
        "    else:\n",
        "        frequencia[num] = 1\n",
        "moda = None\n",
        "max_frequencia = 0\n",
        "for num, freq in frequencia.items():\n",
        "    if freq > max_frequencia:\n",
        "        moda = num        \n",
        "        max_frequencia = freq     \n",
        "\n",
        "print(\"A moda do conjunto é:\", moda)"
      ]
    },
    {
      "cell_type": "markdown",
      "metadata": {
        "id": "ovvwqE-r_z3S"
      },
      "source": [
        "Exercício 6: Análise de Notas de Alunos\n",
        "Uma escola precisa analisar o desempenho dos alunos em uma prova. As\n",
        "notas dos alunos são armazenadas em uma lista. Escreva um programa em\n",
        "Python que:\n",
        "1. Calcule a média aritmética das notas.\n",
        "2. Encontre a mediana das notas.\n",
        "3. Determine a moda das notas (a nota que aparece com maior frequência)."
      ]
    },
    {
      "cell_type": "code",
      "execution_count": 85,
      "metadata": {},
      "outputs": [
        {
          "name": "stdout",
          "output_type": "stream",
          "text": [
            "A média das notas é: 4.0\n",
            "A mediana é: 3.0\n",
            "A moda das notas é:  [3.0]\n"
          ]
        }
      ],
      "source": [
        "def lista_de_notas():\n",
        "  qntdd_de_notas = (input(\"Quantas notas quer inserir? \"))\n",
        "  notas = []\n",
        "      \n",
        "  for contador in range(int(qntdd_de_notas)): \n",
        "    while True:\n",
        "      entrada = input(f\"Insira a nota {contador + 1}: \")\n",
        "      try:\n",
        "          nota = float(entrada) \n",
        "          notas.append(nota)\n",
        "          break\n",
        "      except:\n",
        "        print(\"Entrada inválida. Insira uma nota de 0 a 10. \")\n",
        "\n",
        "  media = (sum(notas))/len(notas)\n",
        "  print(\"A média das notas é:\", media)\n",
        "  \n",
        "  notas.sort()\n",
        "  qntdd_de_notas = len(notas)\n",
        "  meio = qntdd_de_notas // 2\n",
        "\n",
        "  if qntdd_de_notas % 2 != 0:\n",
        "    mediana = notas[meio]\n",
        "  else:\n",
        "    mediana = (notas[meio -1] + notas[meio]) / 2\n",
        "  print(\"A mediana é:\", mediana)\n",
        "\n",
        "  frequencia = {}\n",
        "  for nota in notas:\n",
        "      if nota in frequencia:\n",
        "          frequencia[nota] += 1\n",
        "      else:\n",
        "          frequencia[nota] = 1\n",
        "  \n",
        "  max_frequencia = max(frequencia.values())\n",
        "  if max_frequencia == 1:\n",
        "      moda = \"Nenhuma moda\"\n",
        "  else:\n",
        "      moda = [nota for nota, freq in frequencia.items() if freq == max_frequencia]\n",
        "  \n",
        "  print(\"A moda das notas é: \", moda)\n",
        "lista_de_notas()"
      ]
    },
    {
      "cell_type": "markdown",
      "metadata": {
        "id": "9-XF8Zw8_2jG"
      },
      "source": [
        "Exercício 7: Análise de Vendas de Produtos\n",
        "\n",
        "Uma loja registrou o número de unidades vendidas de diferentes produtos ao\n",
        "longo de uma semana.\n",
        "Cada produto tem um código único e o número de unidades vendidas é\n",
        "registrado em uma lista. Escreva um programa em Python que:\n",
        "1. Calcule a média aritmética das unidades vendidas.\n",
        "2. Encontre a mediana das unidades vendidas.\n",
        "3. Identifique o produto mais vendido (moda)."
      ]
    },
    {
      "cell_type": "code",
      "execution_count": 34,
      "metadata": {},
      "outputs": [
        {
          "name": "stdout",
          "output_type": "stream",
          "text": [
            "A média das vendas é: 24\n",
            "A mediana das vendas é: 20\n",
            "A moda das vendas é:  [10]\n",
            "O produto mais vendido teve 50 unidades vendidas\n"
          ]
        }
      ],
      "source": [
        "def vendas():\n",
        "  unidades_vendidas = [10, 20, 10, 30, 40, 50, 10]\n",
        "  cod_produto = {f'0_{i+1}': unidades_vendidas[i] for i in range(len(unidades_vendidas))}\n",
        "  media = (sum(unidades_vendidas))/len(unidades_vendidas)\n",
        "  arredondado = round(media)\n",
        "  print(\"A média das vendas é:\", arredondado)\n",
        "  \n",
        "  unidades_vendidas.sort()\n",
        "  qntdd_cod_venda = len(unidades_vendidas)\n",
        "  meio = qntdd_cod_venda // 2\n",
        "\n",
        "  if qntdd_cod_venda % 2 != 0:\n",
        "    mediana = unidades_vendidas[meio]\n",
        "  else:\n",
        "    mediana = (unidades_vendidas[meio -1] + unidades_vendidas[meio]) / 2\n",
        "  print(\"A mediana das vendas é:\", mediana)\n",
        "\n",
        "  frequencia = {}\n",
        "  for cod_produto in unidades_vendidas:\n",
        "      if cod_produto in frequencia:\n",
        "          frequencia[cod_produto] += 1\n",
        "      else:\n",
        "          frequencia[cod_produto] = 1\n",
        "  max_frequencia = max(frequencia.values())\n",
        "  if max_frequencia == 1:\n",
        "      moda = \"Nenhum\"\n",
        "  else:\n",
        "      moda = [unidades_vendidas for unidades_vendidas, freq in frequencia.items() if freq == max_frequencia]\n",
        "  print(\"A moda das vendas é: \", moda)\n",
        "  \n",
        "  cod_produto = {f'0_{i+1}': unidades_vendidas[i] for i in range(len(unidades_vendidas))}\n",
        "  m_valor = max(cod_produto.values())\n",
        "  for cod_produto in cod_produto.values():\n",
        "      if cod_produto == m_valor:\n",
        "        print(f\"O produto mais vendido teve {cod_produto} unidades vendidas\")\n",
        "        \n",
        "vendas()"
      ]
    },
    {
      "cell_type": "markdown",
      "metadata": {
        "id": "XTlGIlK6_7IE"
      },
      "source": [
        "Exercício 8: Análise de Temperaturas\n",
        "Você foi contratado para analisar dados meteorológicos.\n",
        "Você tem uma lista com as temperaturas registradas em uma cidade durante\n",
        "um mês. Escreva um programa em Python que:\n",
        "1. Calcule a média aritmética das temperaturas.\n",
        "2. Encontre a mediana das temperaturas.\n",
        "3. Determine a moda das temperaturas (se houver)."
      ]
    },
    {
      "cell_type": "code",
      "execution_count": null,
      "metadata": {},
      "outputs": [
        {
          "name": "stdout",
          "output_type": "stream",
          "text": [
            "A média das temperaturas é: 33\n",
            "A mediana das temperaturas é: 32.54\n",
            "A moda das temperaturas é:  Nenhuma moda\n"
          ]
        }
      ],
      "source": [
        "def temperatura():\n",
        "  #temperaturas geradas através:\n",
        "  #import random\n",
        "  #temperaturas = [round(random.uniform(27, 38), 2) for _ in range(30)]\n",
        "  lista_temperaturas = [37.63, 34.22, 30.33, 35.29, 37.8, 36.6, 29.1, 31.79, 27.69, 32.5, 31.47, 34.34, 27.09, 28.92, 32.58, 31.1, 34.6, 27.89, 37.57, 30.42, 36.57, 37.84, 33.58, 31.09, 32.6, 28.43, 29.27, 37.09, 28.57, 33.14]\n",
        " \n",
        "  media = (sum(lista_temperaturas))/len(lista_temperaturas)\n",
        "  arredondado = round(media)\n",
        "  print(\"A média das temperaturas é:\", arredondado)\n",
        "  \n",
        "  lista_temperaturas.sort()\n",
        "  qntdd_temperaturas = len(lista_temperaturas)\n",
        "  meio = qntdd_temperaturas // 2\n",
        "\n",
        "  if qntdd_temperaturas % 2 != 0:\n",
        "    mediana = lista_temperaturas[meio]\n",
        "  else:\n",
        "    mediana = (lista_temperaturas[meio -1] + lista_temperaturas[meio]) / 2\n",
        "  print(\"A mediana das temperaturas é:\", mediana)\n",
        "\n",
        "  frequencia = {}\n",
        "  for cod_vendas in lista_temperaturas:\n",
        "      if cod_vendas in frequencia:\n",
        "          frequencia[cod_vendas] += 1\n",
        "      else:\n",
        "          frequencia[cod_vendas] = 1\n",
        "  \n",
        "  max_frequencia = max(frequencia.values())\n",
        "  if max_frequencia == 1:\n",
        "      moda = \"Nenhuma moda\"\n",
        "  else:\n",
        "      moda = [cod for cod, freq in frequencia.items() if freq == max_frequencia]\n",
        "  print(\"A moda das temperaturas é: \", moda)\n",
        "temperatura()"
      ]
    },
    {
      "cell_type": "markdown",
      "metadata": {
        "id": "Yq78-msO_9VF"
      },
      "source": [
        "Exercício 9: Você tem a seguinte amostra de dados: \\([12, 15, 20, 22, 30]\\).\n",
        "Calcule a variância amostral e o desvio padrão amostral usando Python."
      ]
    },
    {
      "cell_type": "code",
      "execution_count": null,
      "metadata": {},
      "outputs": [
        {
          "name": "stdout",
          "output_type": "stream",
          "text": [
            "A variância amostral: 48.2\n",
            "O desvio padrão amostral: 6.942621983083913\n"
          ]
        }
      ],
      "source": [
        "import math\n",
        "numeros = [12, 15, 20, 22, 30]\n",
        "elementos = len(numeros)\n",
        "media = sum(numeros) / elementos\n",
        "soma_dos_quadrados = sum((x - media) ** 2 for x in numeros)\n",
        "\n",
        "variancia_amostral = soma_dos_quadrados / (elementos - 1)\n",
        "print(f\"A variância amostral: {variancia_amostral}\")\n",
        "\n",
        "desvio_padrao_amostral = math.sqrt(variancia_amostral)\n",
        "print(f\"O desvio padrão amostral: {desvio_padrao_amostral}\")"
      ]
    },
    {
      "cell_type": "markdown",
      "metadata": {
        "id": "Iu1y45az__t9"
      },
      "source": [
        "Exercício 10: Dada a amostra de dados \\([5, 7, 9, 10, 15, 18]\\), calcule a\n",
        "variância amostral e o desvio padrão amostral."
      ]
    },
    {
      "cell_type": "code",
      "execution_count": null,
      "metadata": {},
      "outputs": [
        {
          "name": "stdout",
          "output_type": "stream",
          "text": [
            "A variância amostral: 24.266666666666666\n",
            "O desvio padrão amostral: 4.926120853842978\n"
          ]
        }
      ],
      "source": [
        "import math\n",
        "numeros = [5, 7, 9, 10, 15, 18]\n",
        "elementos = len(numeros)\n",
        "media = sum(numeros) / elementos\n",
        "soma_dos_quadrados = sum((x - media) ** 2 for x in numeros)\n",
        "\n",
        "variancia_amostral = soma_dos_quadrados / (elementos - 1)\n",
        "print(f\"A variância amostral: {variancia_amostral}\")\n",
        "\n",
        "desvio_padrao_amostral = math.sqrt(variancia_amostral)\n",
        "print(f\"O desvio padrão amostral: {desvio_padrao_amostral}\")"
      ]
    },
    {
      "cell_type": "markdown",
      "metadata": {
        "id": "EguyQPfPACNT"
      },
      "source": [
        "Exercício 11: Considere a amostra \\([23, 29, 31, 35, 40, 42, 50]\\). Determine a\n",
        "variância amostral e o desvio padrão amostral."
      ]
    },
    {
      "cell_type": "code",
      "execution_count": null,
      "metadata": {},
      "outputs": [
        {
          "name": "stdout",
          "output_type": "stream",
          "text": [
            "A variância amostral: 81.90476190476191\n",
            "O desvio padrão amostral: 9.050124966251124\n"
          ]
        }
      ],
      "source": [
        "import math\n",
        "numeros = [23, 29, 31, 35, 40, 42, 50]\n",
        "elementos = len(numeros)\n",
        "media = sum(numeros) / elementos\n",
        "\n",
        "soma_dos_quadrados = sum((x - media) ** 2 for x in numeros)\n",
        "\n",
        "variancia_amostral = soma_dos_quadrados / (elementos - 1)\n",
        "print(f\"A variância amostral: {variancia_amostral}\")\n",
        "\n",
        "desvio_padrao_amostral = math.sqrt(variancia_amostral)\n",
        "print(f\"O desvio padrão amostral: {desvio_padrao_amostral}\")"
      ]
    },
    {
      "cell_type": "markdown",
      "metadata": {
        "id": "ciZcL9CIAEPb"
      },
      "source": [
        "Exercício 12: Para a amostra \\([3, 6, 8, 10, 12, 14, 16, 18]\\), calcule a variância\n",
        "amostral e o desvio padrão amostral."
      ]
    },
    {
      "cell_type": "code",
      "execution_count": null,
      "metadata": {},
      "outputs": [
        {
          "name": "stdout",
          "output_type": "stream",
          "text": [
            "A variância amostral: 26.125\n",
            "O desvio padrão amostral: 5.111262075065218\n"
          ]
        }
      ],
      "source": [
        "import math\n",
        "numeros = [3, 6, 8, 10, 12, 14, 16, 18]\n",
        "elementos = len(numeros)\n",
        "media = sum(numeros) / elementos\n",
        "\n",
        "soma_dos_quadrados = sum((x - media) ** 2 for x in numeros)\n",
        "\n",
        "variancia_amostral = soma_dos_quadrados / (elementos - 1)\n",
        "print(f\"A variância amostral: {variancia_amostral}\")\n",
        "\n",
        "desvio_padrao_amostral = math.sqrt(variancia_amostral)\n",
        "print(f\"O desvio padrão amostral: {desvio_padrao_amostral}\")"
      ]
    },
    {
      "cell_type": "markdown",
      "metadata": {
        "id": "DEkbbS8rAGjj"
      },
      "source": [
        "Exercício 13: Dada a amostra \\([50, 52, 55, 57, 60, 62, 65, 68, 70, 72]\\), calcule\n",
        "a variância amostral e o desvio padrão amostral."
      ]
    },
    {
      "cell_type": "code",
      "execution_count": null,
      "metadata": {},
      "outputs": [
        {
          "name": "stdout",
          "output_type": "stream",
          "text": [
            "A variância amostral: 58.099999999999994\n",
            "O desvio padrão amostral: 7.622335600063802\n"
          ]
        }
      ],
      "source": [
        "import math\n",
        "numeros = [50, 52, 55, 57, 60, 62, 65, 68, 70, 72]\n",
        "elementos = len(numeros)\n",
        "media = sum(numeros) / elementos\n",
        "soma_dos_quadrados = sum((x - media) ** 2 for x in numeros)\n",
        "\n",
        "variancia_amostral = soma_dos_quadrados / (elementos - 1)\n",
        "print(f\"A variância amostral: {variancia_amostral}\")\n",
        "\n",
        "desvio_padrao_amostral = math.sqrt(variancia_amostral)\n",
        "print(f\"O desvio padrão amostral: {desvio_padrao_amostral}\")"
      ]
    },
    {
      "cell_type": "markdown",
      "metadata": {
        "id": "UJXlj37NAIv_"
      },
      "source": [
        "Exercício 14: Suponha que em uma urna há 3 bolas vermelhas e 2 bolas azuis.\n",
        "Qual é a probabilidade de retirar uma bola vermelha ou uma bola azul?\n",
        "Resolva e escreva o programa em Python."
      ]
    },
    {
      "cell_type": "markdown",
      "metadata": {},
      "source": [
        "RESPOSTA: 14\n",
        "\n",
        "A probabilidade de sair uma bola vermelha é de 3 dividido pelo total de bolas 5.\n",
        "A probabilidade de sair uma bola azul é de 2 dividido pelo total de bolas 5.\n",
        "A probabilidade de sair uma bola vermelha ou uma azul é só somar essas probabilidades."
      ]
    },
    {
      "cell_type": "code",
      "execution_count": null,
      "metadata": {},
      "outputs": [
        {
          "name": "stdout",
          "output_type": "stream",
          "text": [
            "A probabilidade de sair uma bola azul ou uma vermelha é: 100.0%\n"
          ]
        }
      ],
      "source": [
        "p_bola_verm = 3/5\n",
        "p_bola_azul = 2/5\n",
        "\n",
        "p_bola_verm_azul = p_bola_verm + p_bola_azul\n",
        "print(f\"A probabilidade de sair uma bola azul ou uma vermelha é: {p_bola_verm_azul * 100}%\")"
      ]
    },
    {
      "cell_type": "markdown",
      "metadata": {
        "id": "he7bDkUhAK_u"
      },
      "source": [
        "Exercício 15: Um dado justo de 6 faces é lançado. Qual é a probabilidade de\n",
        "obter um número par ou um número menor que 4?\n",
        "Resolva e escreva o programa em Python."
      ]
    },
    {
      "cell_type": "markdown",
      "metadata": {},
      "source": [
        "RESPOSTA 15:\n",
        "Um dado tem 6 faces a probabilidade de sair um número par é de 3 (2,4,6) em cada 6 lançamentos.\n",
        "A probabilidade de sair um número menor que 4 (3,2,1) é 3 em cada 6 lançamentos.\n",
        "O número 2 repete nas duas probalidades, então ele é considerado somente uma vez.\n",
        "Logo a probalidade de sair um numero par e menor que 4 é 5 (soma de poder acontecer par e menor 4 retirando o evento em comum) dividido por 6 (eventos possíveis do dado)."
      ]
    },
    {
      "cell_type": "code",
      "execution_count": null,
      "metadata": {},
      "outputs": [
        {
          "name": "stdout",
          "output_type": "stream",
          "text": [
            "A probabilidade de sair uma face ímpar ou uma face menor que 4 é: 83.33333333333334%\n"
          ]
        }
      ],
      "source": [
        "dado = {1,2,3,4,5,6}\n",
        "par = {2,4,6}\n",
        "menor_4 = {3,2,1}\n",
        "\n",
        "p_menor7_menor4 = 5 / 6\n",
        "print(f\"A probabilidade de sair uma face ímpar ou uma face menor que 4 é: {p_menor7_menor4 * 100}%\")"
      ]
    },
    {
      "cell_type": "markdown",
      "metadata": {},
      "source": [
        "Exercício 16: Uma caixa contém 10 bilhetes numerados de 1 a 10.\n",
        "Qual é a probabilidade de retirar um bilhete que tenha um número menor que 4\n",
        "ou um número maior que 7?\n",
        "Resolva e escreva o programa em Python."
      ]
    },
    {
      "cell_type": "markdown",
      "metadata": {},
      "source": [
        "Dados os 10 bilhetes a possibilidade de sair um número menor que 4 (3,2,1) é de 3 para cada bilhete. E a possibilidade de sair um número menor que 7 (6,5,4,3,2,1) é de 6 para cada bilhete. Como os números 1,2,3 se repetem nos dois casos eles são considerados uma vez só.\n",
        "Logo a probalidade de sair um numero menor que 4 e menor que 7 é 6 (soma de poder acontecer menor 4 e menor que 7 retirando o evento em comum) dividido por 10 (a quantidade de bilhetes no total)."
      ]
    },
    {
      "cell_type": "code",
      "execution_count": 59,
      "metadata": {},
      "outputs": [
        {
          "name": "stdout",
          "output_type": "stream",
          "text": [
            "A probabilidade de sair um bilhete menor que 4 ou um bilhete menor que 7 é: 50.0%\n"
          ]
        }
      ],
      "source": [
        "bilhetes = {1,2,3,4,5,6,7,8,9,10}\n",
        "menor_4 = {3,2,1}\n",
        "menor_7 = {6,5,4,3,2,1}\n",
        "\n",
        "p_menor7_menor4 = 5 / 10\n",
        "print(f\"A probabilidade de sair um bilhete menor que 4 ou um bilhete menor que 7 é: {p_menor7_menor4 * 100}%\")"
      ]
    },
    {
      "cell_type": "markdown",
      "metadata": {},
      "source": [
        "Exercício 17: Você lança uma moeda justa e, em seguida, lança um dado justo.\n",
        "Qual é a probabilidade de obter cara na moeda e um número maior que 4 no\n",
        "dado?\n",
        "Resolva e escreva o programa em Python."
      ]
    },
    {
      "cell_type": "markdown",
      "metadata": {},
      "source": [
        "A probalidade de uma moeda sair cara é 1/2, porque das duas possibilidades (cara ou coroa) possíveis 1 é cara, dividido pelas duas (cara ou coroa) possibilidades possíveis quando se joga uma moeda. Já a probalidade de se jogar um dado e obter um número maior que 4 é de 2/6, onde 2 representa as faces maiores de 4 = 5 e 6. Para saber a probalidade desses dois casos acontecerem é só multiplicar as duas probalidades, já que são dois eventos independentes."
      ]
    },
    {
      "cell_type": "code",
      "execution_count": 86,
      "metadata": {},
      "outputs": [
        {
          "name": "stdout",
          "output_type": "stream",
          "text": [
            "A probabilidade de sair cara num lançamento de moeda e um número maior que 4 num lançamento de dado é: 16.666666666666664%\n"
          ]
        }
      ],
      "source": [
        "p_maior4 = 2/6\n",
        "p_cara = 1/2\n",
        "\n",
        "p_maior4_e_cara = p_maior4 * p_cara\n",
        "print(f\"A probabilidade de sair cara num lançamento de moeda e um número maior que 4 num lançamento de dado é: {p_maior4_e_cara * 100}%\")"
      ]
    },
    {
      "cell_type": "markdown",
      "metadata": {},
      "source": [
        "Exercício 18: Você escolhe uma peça de roupa aleatoriamente de um armário\n",
        "e, em seguida, escolhe uma peça de calçado aleatoriamente de um sapateiro.\n",
        "Se o armário tem 10 camisetas e o sapateiro tem 8 pares de sapato, qual é a\n",
        "probabilidade de escolher uma camiseta de cor azul e um par de sapatos\n",
        "pretos?"
      ]
    },
    {
      "cell_type": "markdown",
      "metadata": {},
      "source": [
        "Se no armário tem 10 camisas e quero saber qual a probabilidade de retirar uma camisa de cor azul, vou considerar a existencia de uma camisa azul no armário. Se no sapateiro tem 8 pares de sapato e quero saber a probabilidade de retirar um sapato da cor preta, vou considerar a existencia de um sapato preto no armário. Assim considerado, a probabilidade se tirar uma camisa azul do armário é 1 a cada 10, ou seja 1/10. Já a probabilidade de se tirar um sapato preto do sapateiro é uma a cada oito, ou seja 1/8. Como são dois eventos independentes para saber a probabilidade desses dois casos acontecerem é só multiplicar as duas probalidades."
      ]
    },
    {
      "cell_type": "code",
      "execution_count": 13,
      "metadata": {},
      "outputs": [
        {
          "name": "stdout",
          "output_type": "stream",
          "text": [
            "A probabilidade de se retirar do armário uma roupa e um sapato é de: 1.25%\n"
          ]
        }
      ],
      "source": [
        "p_camisa_azul = 1/10\n",
        "p_sapato_preto = 1/8\n",
        "\n",
        "p_camisa_sapato = p_camisa_azul * p_sapato_preto\n",
        "\n",
        "print(f\"A probabilidade de se retirar do armário uma roupa e um sapato é de: {p_camisa_sapato * 100}%\")\n"
      ]
    },
    {
      "cell_type": "markdown",
      "metadata": {},
      "source": [
        "Exercício 19: Você tem uma lista de 1000 números inteiros aleatórios entre 1 e\n",
        "1000.\n",
        "Pegue uma amostra de 50 números dessa lista. Calcule a média e o desvio\n",
        "padrão da amostra.\n",
        "Escreva o programa em Python."
      ]
    },
    {
      "cell_type": "code",
      "execution_count": 68,
      "metadata": {},
      "outputs": [
        {
          "name": "stdout",
          "output_type": "stream",
          "text": [
            "A variância amostral: 87152.47714285714\n",
            "O desvio padrão amostral: 295.215983887826\n"
          ]
        }
      ],
      "source": [
        "import random\n",
        "lista_numeros = list(range(1, 1001))\n",
        "tamanho_amostra = 50\n",
        "numeros = random.sample(lista_numeros, tamanho_amostra)\n",
        "\n",
        "import math\n",
        "elementos = len(numeros)\n",
        "media = sum(numeros) / elementos\n",
        "soma_dos_quadrados = sum((x - media) ** 2 for x in numeros)\n",
        "\n",
        "variancia_amostral = soma_dos_quadrados / (elementos - 1)\n",
        "print(f\"A variância amostral: {variancia_amostral}\")\n",
        "\n",
        "desvio_padrao_amostral = math.sqrt(variancia_amostral)\n",
        "print(f\"O desvio padrão amostral: {desvio_padrao_amostral}\")"
      ]
    },
    {
      "cell_type": "markdown",
      "metadata": {},
      "source": [
        "Exercício 20: Considere uma população com 3 grupos (A, B, C) com tamanhos\n",
        "diferentes: A (100), B (200), C (300).\n",
        "Faça uma amostra estratificada onde você tira 10% de cada grupo.\n",
        "Escreva o programa em Python."
      ]
    },
    {
      "cell_type": "code",
      "execution_count": 6,
      "metadata": {},
      "outputs": [
        {
          "name": "stdout",
          "output_type": "stream",
          "text": [
            "[77, 83, 45, 33, 73, 98, 27, 66, 99, 53, 159, 50, 154, 135, 197, 74, 162, 134, 84, 124, 133, 89, 169, 126, 98, 147, 172, 170, 52, 58, 229, 278, 140, 14, 131, 13, 191, 111, 106, 227, 71, 81, 296, 283, 149, 251, 294, 60, 159, 210, 132, 61, 120, 160, 52, 110, 197, 242, 174, 100]\n"
          ]
        }
      ],
      "source": [
        "import random\n",
        "a = list(range(1, 101))\n",
        "b = list(range(1, 201))\n",
        "c = list(range(1, 301))\n",
        "\n",
        "\n",
        "tamanho_amostra_a = len(a) // 10\n",
        "tamanho_amostra_b = len(b) // 10\n",
        "tamanho_amostra_c = len(c) // 10\n",
        "\n",
        "amostra_a = random.sample(a, tamanho_amostra_a)\n",
        "amostra_b = random.sample(b, tamanho_amostra_b)\n",
        "amostra_c = random.sample(c, tamanho_amostra_c)\n",
        "amostra_estratificada = amostra_a + amostra_b + amostra_c\n",
        "print(amostra_estratificada)"
      ]
    },
    {
      "cell_type": "markdown",
      "metadata": {},
      "source": [
        "Exercícios Opcionais"
      ]
    },
    {
      "cell_type": "markdown",
      "metadata": {},
      "source": [
        "1. Uma pesquisa está sendo conduzida para entender os hábitos alimentares\n",
        "de diferentes faixas etárias.\n",
        "Identifique as variáveis quantitativas e qualitativas que poderiam ser coletadas\n",
        "e categorize-as."
      ]
    },
    {
      "cell_type": "markdown",
      "metadata": {},
      "source": [
        "Qualitativo ordinal:\n",
        "Consomem frutas: regularmente, raramente, nunca\n",
        "\n",
        "Quantitativo discreto:\n",
        "Crianças de 0 a 5 anos\n",
        "\n",
        "Quantitativo contínuo:\n",
        "Peso de cada pessoa\n",
        "\n",
        "Qualitativo nominal:\n",
        "Frutas que consomem por dia (abacaxi, morango, goiaba...)\n"
      ]
    },
    {
      "cell_type": "markdown",
      "metadata": {},
      "source": [
        "2. Em um estudo sobre a saúde dos funcionários de uma empresa, foram\n",
        "coletados dados sobre altura, peso, pressão arterial e tipo de alimentação.\n",
        "Classifique cada variável."
      ]
    },
    {
      "cell_type": "markdown",
      "metadata": {},
      "source": [
        "altura = Quantitativo contínuo\n",
        "\n",
        "peso = Quantitativo contínuo\n",
        "\n",
        "pressão arterial = Quantitativo contínuo\n",
        "\n",
        "tipo de alimentação = Qualitativo nominal"
      ]
    },
    {
      "cell_type": "markdown",
      "metadata": {},
      "source": [
        "3. Dado um arquivo contendo uma lista de números, calcule a média, mediana\n",
        "e moda.\n",
        "**Exemplo de conteúdo do arquivo (`numeros.txt`):**\n",
        "5\n",
        "3\n",
        "8\n",
        "9\n",
        "3\n",
        "3\n",
        "2\n",
        "7\n",
        "6\n",
        "6"
      ]
    },
    {
      "cell_type": "markdown",
      "metadata": {},
      "source": [
        "4. Dada a lista de números: numeros = [1.2, 3.5, 3.5, 7.8, 7.8, 7.8, 12.3, 15.7,\n",
        "15.7, 15.7, 15.7], calcule a média, mediana e moda."
      ]
    },
    {
      "cell_type": "code",
      "execution_count": 36,
      "metadata": {},
      "outputs": [
        {
          "name": "stdout",
          "output_type": "stream",
          "text": [
            "A média de números é: 9.700000000000001\n",
            "11\n",
            "A mediana de números é: 7.8\n",
            "A moda de números é: 15.7\n"
          ]
        }
      ],
      "source": [
        "numeros = [1.2, 3.5, 3.5, 7.8, 7.8, 7.8, 12.3, 15.7,\n",
        "15.7, 15.7, 15.7]\n",
        "media = (sum(numeros))/len(numeros)\n",
        "print(\"A média de números é:\", media)\n",
        "print(len(numeros))\n",
        "\n",
        "numeros.sort()\n",
        "tamanho = len(numeros)\n",
        "mediana = numeros[tamanho//2] \n",
        "print(\"A mediana de números é:\", mediana)\n",
        "\n",
        "frequencia = {}\n",
        "for num in numeros:\n",
        "    if num in frequencia:\n",
        "        frequencia[num] += 1\n",
        "    else:\n",
        "        frequencia[num] = 1\n",
        "moda = None\n",
        "max_frequencia = 0\n",
        "for num, freq in frequencia.items():\n",
        "    if freq > max_frequencia:\n",
        "        moda = num        \n",
        "        max_frequencia = freq     \n",
        "\n",
        "print(\"A moda de números é:\", moda)\n"
      ]
    },
    {
      "cell_type": "markdown",
      "metadata": {},
      "source": [
        "5. Segue abaixo dados para o cálculo de variância amostral e desvio padrão\n",
        "amostral em Python."
      ]
    },
    {
      "cell_type": "markdown",
      "metadata": {},
      "source": [
        "Exercício 1\n",
        "**Dados:**\n",
        "\n",
        "[43, 47, 52, 51, 46, 48, 55, 59, 54, 49, 51, 53, 50, 52, 56, 57, 58, 60, 62, 64]"
      ]
    },
    {
      "cell_type": "code",
      "execution_count": 53,
      "metadata": {},
      "outputs": [
        {
          "name": "stdout",
          "output_type": "stream",
          "text": [
            "A média lista de números é: 53.35\n",
            "20\n",
            "A mediana da lista de números é 52\n",
            "A moda lista de números é: 51\n",
            "A variância amostral: 30.765789473684215\n",
            "O desvio padrão amostral: 5.546691759389935\n"
          ]
        }
      ],
      "source": [
        "numeros = [43, 47, 52, 51, 46, 48, 55, 59, 54, 49, 51, 53, 50, 52, 56, 57, 58, 60, 62, 64]\n",
        "media = (sum(numeros))/len(numeros)\n",
        "print(f\"A média lista de números é: {media}\")\n",
        "print(len(numeros))\n",
        "\n",
        "numeros.sort()\n",
        "tamanho = len(numeros)\n",
        "meio = len(numeros) // 2\n",
        "\n",
        "mediana = (numeros[meio -1] + numeros[meio]) // 2\n",
        "print(f\"A mediana da lista de números é {mediana}\")\n",
        "\n",
        "frequencia = {}\n",
        "for num in numeros:\n",
        "    if num in frequencia:\n",
        "        frequencia[num] += 1\n",
        "    else:\n",
        "        frequencia[num] = 1\n",
        "moda = None\n",
        "max_frequencia = 0\n",
        "for num, freq in frequencia.items():\n",
        "    if freq > max_frequencia:\n",
        "        moda = num        \n",
        "        max_frequencia = freq     \n",
        "\n",
        "print(f\"A moda lista de números é: {moda}\")\n",
        "\n",
        "import math\n",
        "numeros = [43, 47, 52, 51, 46, 48, 55, 59, 54, 49, 51, 53, 50, 52, 56, 57, 58, 60, 62, 64]\n",
        "elementos = len(numeros)\n",
        "media = sum(numeros) / elementos\n",
        "soma_dos_quadrados = sum((x - media) ** 2 for x in numeros)\n",
        "\n",
        "\n",
        "variancia_amostral = soma_dos_quadrados / (elementos - 1)\n",
        "print(f\"A variância amostral: {variancia_amostral}\")\n",
        "\n",
        "desvio_padrao_amostral = math.sqrt(variancia_amostral)\n",
        "print(f\"O desvio padrão amostral: {desvio_padrao_amostral}\")"
      ]
    },
    {
      "cell_type": "markdown",
      "metadata": {},
      "source": [
        "Exercício 2\n",
        "**Dados:**\n",
        "[123, 119, 130, 137, 142, 136, 125, 129, 140, 145, 138, 131, 127, 132, 126,\n",
        "141, 134, 139, 144, 133]"
      ]
    },
    {
      "cell_type": "code",
      "execution_count": 37,
      "metadata": {},
      "outputs": [
        {
          "name": "stdout",
          "output_type": "stream",
          "text": [
            "A média lista de números é: 133.55\n",
            "20\n",
            "A mediana da lista de números é 133\n",
            "A variância amostral: 53.41842105263157\n",
            "O desvio padrão amostral: 7.308790669641016\n"
          ]
        }
      ],
      "source": [
        "numeros = [123, 119, 130, 137, 142, 136, 125, 129, 140, 145, 138, 131, 127, 132, 126,\n",
        "141, 134, 139, 144, 133]\n",
        "media = sum(numeros)/len(numeros)\n",
        "print(f\"A média lista de números é: {media}\")\n",
        "print(len(numeros))\n",
        "\n",
        "numeros.sort()\n",
        "meio = len(numeros)//2\n",
        "mediana =(numeros[meio - 1] + numeros[meio]) // 2\n",
        "print(f\"A mediana da lista de números é {mediana}\")\n",
        "\n",
        "import math\n",
        "\n",
        "elementos = len(numeros)\n",
        "media = sum(numeros) / elementos\n",
        "\n",
        "soma_dos_quadrados = sum((x - media) ** 2 for x in numeros)\n",
        "variancia_amostral = soma_dos_quadrados / (elementos - 1)\n",
        "print(f\"A variância amostral: {variancia_amostral}\")\n",
        "\n",
        "desvio_padrao_amostral = math.sqrt(variancia_amostral)\n",
        "print(f\"O desvio padrão amostral: {desvio_padrao_amostral}\")"
      ]
    },
    {
      "cell_type": "markdown",
      "metadata": {},
      "source": [
        "Exercício 3\n",
        "**Dados:**\n",
        "[6.5, 7.2, 8.1, 6.9, 7.5, 8.4, 7.8, 8.2, 6.7, 7.9, 8.0, 7.6, 6.8, 7.3, 8.1, 7.7, 8.5, 7.4,\n",
        "8.2, 7.8]\n"
      ]
    },
    {
      "cell_type": "code",
      "execution_count": 36,
      "metadata": {},
      "outputs": [
        {
          "name": "stdout",
          "output_type": "stream",
          "text": [
            "A média lista de números é: 7.63\n",
            "20\n",
            "A mediana da lista de números é 10.7\n",
            "A variância amostral: 0.3390526315789472\n",
            "O desvio padrão amostral: 0.5822822610890248\n"
          ]
        }
      ],
      "source": [
        "numeros = [6.5, 7.2, 8.1, 6.9, 7.5, 8.4, 7.8, 8.2, 6.7, 7.9, 8.0, 7.6, 6.8, 7.3, 8.1, 7.7, 8.5, 7.4,\n",
        "8.2, 7.8]\n",
        "media = sum(numeros)/len(numeros)\n",
        "print(f\"A média lista de números é: {media}\")\n",
        "print(len(numeros))\n",
        "\n",
        "numeros.sort()\n",
        "meio = len(numeros) // 2\n",
        "mediana = numeros[meio - 1] + numeros[meio] // 2\n",
        "print(f\"A mediana da lista de números é {mediana}\")\n",
        "\n",
        "import math\n",
        "elementos = len(numeros)\n",
        "media = sum(numeros) / elementos\n",
        "\n",
        "soma_dos_quadrados = sum((x - media) ** 2 for x in numeros)\n",
        "variancia_amostral = soma_dos_quadrados / (elementos - 1)\n",
        "print(f\"A variância amostral: {variancia_amostral}\")\n",
        "\n",
        "desvio_padrao_amostral = math.sqrt(variancia_amostral)\n",
        "print(f\"O desvio padrão amostral: {desvio_padrao_amostral}\")\n"
      ]
    },
    {
      "cell_type": "markdown",
      "metadata": {},
      "source": [
        "Exercício 4\n",
        "**Dados:**\n",
        "[34.2, 36.5, 33.1, 37.8, 35.0, 38.2, 36.0, 34.7, 35.5, 37.0, 38.1, 36.4, 34.8, 37.3,\n",
        "36.2, 35.9, 38.4, 34.1, 36.7, 37.5]"
      ]
    },
    {
      "cell_type": "code",
      "execution_count": 35,
      "metadata": {},
      "outputs": [
        {
          "name": "stdout",
          "output_type": "stream",
          "text": [
            "A média lista de números é: 36.17\n",
            "20\n",
            "A mediana da lista de números é 54.2\n",
            "A variância amostral: 2.273789473684209\n",
            "O desvio padrão amostral: 1.5079089739384832\n"
          ]
        }
      ],
      "source": [
        "numeros = [34.2, 36.5, 33.1, 37.8, 35.0, 38.2, 36.0, 34.7, 35.5, 37.0, 38.1, 36.4, 34.8, 37.3,\n",
        "36.2, 35.9, 38.4, 34.1, 36.7, 37.5]\n",
        "\n",
        "media = sum(numeros)/len(numeros)\n",
        "print(f\"A média lista de números é: {media}\")\n",
        "print(len(numeros))\n",
        "\n",
        "numeros.sort()\n",
        "meio = len(numeros) // 2\n",
        "mediana = numeros[meio - 1] + numeros[meio] // 2\n",
        "print(f\"A mediana da lista de números é {mediana}\")\n",
        "\n",
        "import math\n",
        "elementos = len(numeros)\n",
        "media = sum(numeros) / elementos\n",
        "\n",
        "soma_dos_quadrados = sum((x - media) ** 2 for x in numeros)\n",
        "variancia_amostral = soma_dos_quadrados / (elementos - 1)\n",
        "print(f\"A variância amostral: {variancia_amostral}\")\n",
        "\n",
        "desvio_padrao_amostral = math.sqrt(variancia_amostral)\n",
        "print(f\"O desvio padrão amostral: {desvio_padrao_amostral}\")"
      ]
    },
    {
      "cell_type": "markdown",
      "metadata": {},
      "source": [
        "6. : Em uma turma de 30 alunos, 12 são meninas e 8 estão usando óculos.\n",
        "Qual é a probabilidade de selecionar um aluno que seja uma menina ou que\n",
        "esteja usando óculos, assumindo que não há sobreposição entre meninas e\n",
        "alunos que usam óculos?"
      ]
    },
    {
      "cell_type": "markdown",
      "metadata": {},
      "source": [
        "Num total de 30 alunos (meninos e meninas) somente 12 são meninas. E dessas 12 apenas 8 usam óculos.\n",
        "Para calcular a probalidade de ser escolhida uma menina temos 12/30, sendo 12 o total de meninas no grupo inteiro de 30 pessoas.\n",
        "Já quando quero saber a probalidade de selecionar alunos que usam óculos a chance fica 8/30, sendo 8 os alunos que usam óculos no total de 30 alunos. Para saber a probalidade de selecionar uma menina ou um aluno que usa óculos basta apenas somar as duas probabilidades."
      ]
    },
    {
      "cell_type": "code",
      "execution_count": 38,
      "metadata": {},
      "outputs": [
        {
          "name": "stdout",
          "output_type": "stream",
          "text": [
            "0.6666666666666667\n"
          ]
        }
      ],
      "source": [
        "p_menina = 12/30\n",
        "p_usar_oculos = 8/30\n",
        "\n",
        "P_menina_oculos = p_menina + p_usar_oculos\n",
        "print(P_menina_oculos)"
      ]
    }
  ],
  "metadata": {
    "colab": {
      "provenance": []
    },
    "kernelspec": {
      "display_name": "Python 3",
      "name": "python3"
    },
    "language_info": {
      "codemirror_mode": {
        "name": "ipython",
        "version": 3
      },
      "file_extension": ".py",
      "mimetype": "text/x-python",
      "name": "python",
      "nbconvert_exporter": "python",
      "pygments_lexer": "ipython3",
      "version": "3.12.4"
    }
  },
  "nbformat": 4,
  "nbformat_minor": 0
}
