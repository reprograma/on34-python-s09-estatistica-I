{
  "nbformat": 4,
  "nbformat_minor": 0,
  "metadata": {
    "colab": {
      "provenance": [],
      "toc_visible": true,
      "authorship_tag": "ABX9TyOO/PEmF0ESD8lTOjMZU9wC",
      "include_colab_link": true
    },
    "kernelspec": {
      "name": "python3",
      "display_name": "Python 3"
    },
    "language_info": {
      "name": "python"
    }
  },
  "cells": [
    {
      "cell_type": "markdown",
      "metadata": {
        "id": "view-in-github",
        "colab_type": "text"
      },
      "source": [
        "<a href=\"https://colab.research.google.com/github/Polliferraz/on34-python-s09-estatistica-I/blob/main/S09_an%C3%A1lise_descritiva_Polli.ipynb\" target=\"_parent\"><img src=\"https://colab.research.google.com/assets/colab-badge.svg\" alt=\"Open In Colab\"/></a>"
      ]
    },
    {
      "cell_type": "markdown",
      "source": [
        "### Exercícios Obrigatórios (1 ao 20)"
      ],
      "metadata": {
        "id": "qauxGzZWHsyn"
      }
    },
    {
      "cell_type": "markdown",
      "source": [
        "####Exercício 1:\n",
        "Identificação de Tipos de Dados\n",
        "Classifique os seguintes dados em qualitativos (nominais ou ordinais) ou\n",
        "quantitativos (discretos ou contínuos):\n",
        "\n",
        "*   Número de irmãos: ***Variável quantitativa discreta***\n",
        "*   Notas de um exame (A, B, C, D, F): ***Variável qualitativa ordinal***\n",
        "*   Altura de uma pessoa: ***Variável quantitativa contínua***\n",
        "*   Cores favoritas: ***Variável qualitativa nominal***\n",
        "*   Salário anual: ***Variável quantitativa contínua***\n"
      ],
      "metadata": {
        "id": "e-n0nfL029xG"
      }
    },
    {
      "cell_type": "markdown",
      "source": [
        "####Exercício 2:\n",
        "Classificação de Variáveis\n",
        "Identifique se as variáveis a seguir são qualitativas nominais, qualitativas\n",
        "ordinais, quantitativas discretas ou quantitativas contínuas:\n",
        "\n",
        "* Cor dos olhos (azul, castanho, verde): **Variável qualitativa nominal **\n",
        "* Nível de satisfação em uma escala de 1 a 5: **Variável qualitativa ordinal **\n",
        "* Número de carros em uma garagem: **Variável quantitativa discreta **\n",
        "* Temperatura medida em graus Celsius: **Variável quantitativa contínua **\n",
        "* Classificação de filmes (ótimo, bom, regular, ruim): **Variável qualitativa ordinal **\n",
        "* Peso de um saco de arroz: **Variável quantitativa contínua **"
      ],
      "metadata": {
        "id": "P52mRHmY47fo"
      }
    },
    {
      "cell_type": "markdown",
      "source": [
        "####Exercício 3:\n",
        "Dado um conjunto de números, calcule a média aritmética desses números.\n",
        "Conjunto: `[10, 20, 30, 40, 50]`\n"
      ],
      "metadata": {
        "id": "S_91I-TT6YoT"
      }
    },
    {
      "cell_type": "code",
      "source": [
        "n =  [10, 20, 30, 40, 50]\n",
        "soma = n[0] + n[1] + n[2] + n[3] + n[4]\n",
        "qtdade = len(n)\n",
        "media = soma / qtdade\n",
        "print('Média do conjunto n é', media)"
      ],
      "metadata": {
        "colab": {
          "base_uri": "https://localhost:8080/"
        },
        "id": "9M1KZ5YK-_Xc",
        "outputId": "bdf41a29-bf91-44da-a062-f4f871846c5e"
      },
      "execution_count": null,
      "outputs": [
        {
          "output_type": "stream",
          "name": "stdout",
          "text": [
            "Média do conjunto n é 30.0\n"
          ]
        }
      ]
    },
    {
      "cell_type": "code",
      "source": [
        "num = [10, 20, 30, 40, 50]\n",
        "media = sum(num) / len(num)\n",
        "print(media)"
      ],
      "metadata": {
        "colab": {
          "base_uri": "https://localhost:8080/"
        },
        "id": "Yl3vmsyJ7kAd",
        "outputId": "f60a255c-981b-4397-f678-9295ed04046d"
      },
      "execution_count": null,
      "outputs": [
        {
          "output_type": "stream",
          "name": "stdout",
          "text": [
            "30.0\n"
          ]
        }
      ]
    },
    {
      "cell_type": "code",
      "source": [
        "num = [10, 20, 30, 40, 50]\n",
        "soma = 0\n",
        "for n in num:\n",
        "  soma += n\n",
        "media = soma / len(num)\n",
        "print(media)"
      ],
      "metadata": {
        "colab": {
          "base_uri": "https://localhost:8080/"
        },
        "id": "mVAeJ3wd9lT-",
        "outputId": "f6631e2f-696d-4e84-f20b-33a8f81db36e"
      },
      "execution_count": null,
      "outputs": [
        {
          "output_type": "stream",
          "name": "stdout",
          "text": [
            "30.0\n"
          ]
        }
      ]
    },
    {
      "cell_type": "markdown",
      "source": [
        "####Exercício 4:\n",
        "Cálculo da Mediana\n",
        "Dado um conjunto de números, calcule a mediana. A mediana é o valor central\n",
        "de um conjunto de números ordenados.\n",
        "Conjunto: `[1, 3, 4, 2, 5]`\n"
      ],
      "metadata": {
        "id": "psxbo7Lx6aXS"
      }
    },
    {
      "cell_type": "code",
      "source": [
        "n = [1, 3, 4, 2, 5]\n",
        "n.sort()\n",
        "qtidade = len(n)\n",
        "mediana = n[qtidade // 2]\n",
        "print('O conjunto {} tem mediana {}'.format(n, mediana))"
      ],
      "metadata": {
        "colab": {
          "base_uri": "https://localhost:8080/"
        },
        "id": "erGjtvGKBxjy",
        "outputId": "9d17ebf4-f92f-4b79-95c1-55d2ff8c7a9e"
      },
      "execution_count": null,
      "outputs": [
        {
          "output_type": "stream",
          "name": "stdout",
          "text": [
            "O conjunto [1, 2, 3, 4, 5] tem mediana 3\n"
          ]
        }
      ]
    },
    {
      "cell_type": "markdown",
      "source": [
        "####Exercício 5:\n",
        "Cálculo da Moda\n",
        "Dado um conjunto de números, encontre a moda. A moda é o número que\n",
        "aparece com maior frequência no conjunto.\n",
        "Conjunto: `[1, 2, 2, 3, 4, 4, 4, 5, 5]`"
      ],
      "metadata": {
        "id": "-QwruiurCHaU"
      }
    },
    {
      "cell_type": "code",
      "source": [
        "n = [1, 2, 2, 3, 4, 4, 4, 5, 5]\n",
        "freq = {}\n",
        "for num in n:\n",
        "  if num in freq:\n",
        "    freq[num] += 1\n",
        "  else:\n",
        "    freq[num] = 1\n",
        "print(freq)\n",
        "\n",
        "moda = None\n",
        "max_freq = 0\n",
        "for num, frequencia in freq.items():\n",
        "  if frequencia > max_freq:\n",
        "    moda = num\n",
        "    max_freq = frequencia\n",
        "print('A moda do conjunto {} é {}'.format(n, moda))\n"
      ],
      "metadata": {
        "colab": {
          "base_uri": "https://localhost:8080/"
        },
        "id": "TRxht9cVCHGQ",
        "outputId": "53ed40d9-14ac-4d39-c241-af9831dd44e8"
      },
      "execution_count": null,
      "outputs": [
        {
          "output_type": "stream",
          "name": "stdout",
          "text": [
            "{1: 1, 2: 2, 3: 1, 4: 3, 5: 2}\n",
            "A moda do conjunto [1, 2, 2, 3, 4, 4, 4, 5, 5] é 4\n"
          ]
        }
      ]
    },
    {
      "cell_type": "code",
      "source": [
        "n = [1, 2, 2, 3, 4, 4, 4, 5, 5]\n",
        "freq = {}\n",
        "for num in n:\n",
        "  if num in freq:\n",
        "    freq[num] += 1\n",
        "  else:\n",
        "    freq[num] = 1\n",
        "  print(freq)\n",
        "\n",
        "freq.values()\n",
        "print('Frequência de cada valor da lista, formando o dicionário freq:', freq.values())\n",
        "\n",
        "max_freq = max(freq.values())\n",
        "moda = [num for num, frequencia in freq.items() if frequencia == max_freq]\n",
        "print('O número que mais se repete, moda, no conjunto {} é {}'.format(n, moda))\n"
      ],
      "metadata": {
        "colab": {
          "base_uri": "https://localhost:8080/"
        },
        "id": "XLP0fRVlOHUV",
        "outputId": "5f24985a-7003-436f-9041-57f09a7ecf35"
      },
      "execution_count": null,
      "outputs": [
        {
          "output_type": "stream",
          "name": "stdout",
          "text": [
            "{1: 1}\n",
            "{1: 1, 2: 1}\n",
            "{1: 1, 2: 2}\n",
            "{1: 1, 2: 2, 3: 1}\n",
            "{1: 1, 2: 2, 3: 1, 4: 1}\n",
            "{1: 1, 2: 2, 3: 1, 4: 2}\n",
            "{1: 1, 2: 2, 3: 1, 4: 3}\n",
            "{1: 1, 2: 2, 3: 1, 4: 3, 5: 1}\n",
            "{1: 1, 2: 2, 3: 1, 4: 3, 5: 2}\n",
            "Frequência de cada valor da lista, formando o dicionário freq: dict_values([1, 2, 1, 3, 2])\n",
            "O número que mais se repete, moda, no conjunto [1, 2, 2, 3, 4, 4, 4, 5, 5] é [4]\n"
          ]
        }
      ]
    },
    {
      "cell_type": "code",
      "source": [
        "n = [1, 2, 2, 3, 4, 4, 4, 5, 5]\n",
        "freq = {}\n",
        "for num in n:\n",
        "  if num in freq:\n",
        "    freq[num] += 1\n",
        "  else:\n",
        "    freq[num] = 1\n",
        "  print('Apresento o resultado do loop com as frequência de cada número da lista n\\:', (freq))\n",
        "\n",
        "max_freq = max(freq.values())\n",
        "if max_freq == 1:\n",
        "  print('Não há moda nesse conjunto de dados')\n",
        "else:\n",
        "  moda = [num for num, freq in freq.items() if freq == max_freq]\n",
        "  print('A moda do conjunto {} é {}'.format(n, moda))\n",
        "\n"
      ],
      "metadata": {
        "colab": {
          "base_uri": "https://localhost:8080/"
        },
        "id": "imMdmKTMzrdM",
        "outputId": "03774681-8002-4996-d192-c93c74f3922c"
      },
      "execution_count": null,
      "outputs": [
        {
          "output_type": "stream",
          "name": "stdout",
          "text": [
            "Apresento o resultado do loop com as frequência de cada número da lista n\\: {1: 1}\n",
            "Apresento o resultado do loop com as frequência de cada número da lista n\\: {1: 1, 2: 1}\n",
            "Apresento o resultado do loop com as frequência de cada número da lista n\\: {1: 1, 2: 2}\n",
            "Apresento o resultado do loop com as frequência de cada número da lista n\\: {1: 1, 2: 2, 3: 1}\n",
            "Apresento o resultado do loop com as frequência de cada número da lista n\\: {1: 1, 2: 2, 3: 1, 4: 1}\n",
            "Apresento o resultado do loop com as frequência de cada número da lista n\\: {1: 1, 2: 2, 3: 1, 4: 2}\n",
            "Apresento o resultado do loop com as frequência de cada número da lista n\\: {1: 1, 2: 2, 3: 1, 4: 3}\n",
            "Apresento o resultado do loop com as frequência de cada número da lista n\\: {1: 1, 2: 2, 3: 1, 4: 3, 5: 1}\n",
            "Apresento o resultado do loop com as frequência de cada número da lista n\\: {1: 1, 2: 2, 3: 1, 4: 3, 5: 2}\n",
            "A moda do conjunto [1, 2, 2, 3, 4, 4, 4, 5, 5] é [4]\n"
          ]
        }
      ]
    },
    {
      "cell_type": "markdown",
      "source": [
        "####Exercício 6:\n",
        "Análise de Notas de Alunos\n",
        "Uma escola precisa analisar o desempenho dos alunos em uma prova. As\n",
        "notas dos alunos são armazenadas em uma lista. Escreva um programa em\n",
        "Python que:\n",
        "1. Calcule a média aritmética das notas.\n",
        "2. Encontre a mediana das notas.\n",
        "3. Determine a moda das notas (a nota que aparece com maior frequência)."
      ],
      "metadata": {
        "id": "1qAtcT3NMeWD"
      }
    },
    {
      "cell_type": "code",
      "source": [
        "aluna1 = [5, 7.8, 9]\n",
        "aluna2 = [8, 6.5, 7]\n",
        "aluna3 = [9, 9.2, 8]\n",
        "aluna4 = [7, 8.5, 6]\n",
        "aluna5 = [6, 7.5, 5]\n",
        "turma = [aluna1, aluna2, aluna3, aluna4, aluna5]\n",
        "print(f'Notas individuais de cada aluna da turma é {turma}, respectivamente.' )\n",
        "\n",
        "\n",
        "#média por aluna\n",
        "media = []\n",
        "for aluna in turma:\n",
        "  media.append(sum(aluna) / len(aluna)) #append adiciona um elemento no final da lista media\n",
        "print(f\"A média de cada aluna é {media}, respectivamente.\")\n",
        "\n",
        "#Média da turma\n",
        "media_turma = sum(media) / len(media)\n",
        "print('A média da turma é', media_turma)\n",
        "\n",
        "#Mediana\n",
        "\n",
        "tam_aluna = len(turma [0])\n",
        "\n",
        "dados_central_aluna = tam_aluna // 2\n",
        "\n",
        "print(f'Tamanho da lista aluna {tam_aluna}')\n",
        "print(f'O índice do centro da lista aluna é {dados_central_aluna}')\n",
        "print('A mediana das respectivas alunas é:')\n",
        "\n",
        "# Mediana alunas\n",
        "for aluna in turma:\n",
        "  aluna.sort()\n",
        "  if tam_aluna % 2 == 0:\n",
        "    mediana_alunas = (aluna[dados_central_aluna - 1] + aluna[dados_central_aluna] / 2)\n",
        "  else:\n",
        "    mediana_alunas = aluna[dados_central_aluna]\n",
        "  print(mediana_alunas)\n",
        "\n",
        "#Mediana turma\n",
        "\n",
        "for aluna in turma:\n",
        "  todas_notas = (turma[0] + turma[1] + turma[2] + turma[3] + turma[4])\n",
        "  todas_notas.sort()\n",
        "print(f' todas as notas ordenandas: \\n{todas_notas}')\n",
        "tam_turma = len(todas_notas)\n",
        "print(f' tamanho da turma {tam_turma}')\n",
        "dados_central_turma = (tam_turma)  // 2\n",
        "print(f'O índice do centro da lista turma é {dados_central_turma}')\n",
        "\n",
        "if tam_turma % 2 == 0:\n",
        "    mediana_turma = (todas_notas[dados_central_turma - 1] + todas_notas[dados_central_turma] / 2)\n",
        "else:\n",
        "    mediana_turma = todas_notas[dados_central_turma]\n",
        "\n",
        "print('A mediana da turma é:')\n",
        "print(mediana_turma)\n",
        "\n",
        "##### NOTA: na mediana da turma quando usei uma lista com tamanho par não funcionou\n",
        "\n",
        "#Moda\n",
        "freq = {}\n",
        "for aluna in turma:\n",
        "  for nota in aluna:\n",
        "    if nota in freq:\n",
        "      freq[nota] += 1\n",
        "    else:\n",
        "      freq[nota] = 1\n",
        "\n",
        "print(f'A frequência de cada número na lista turma é \\n{freq}')\n",
        "max_freq = max(freq.values())\n",
        "moda = [num for num, frequencia in freq.items() if frequencia == max_freq]\n",
        "print('Os números que mais se repetem, modas, na lista: \\n{} são: \\n{}'.format(turma, moda))\n",
        "\n"
      ],
      "metadata": {
        "colab": {
          "base_uri": "https://localhost:8080/"
        },
        "id": "1tDlIiQdMWXX",
        "outputId": "5a2501b7-d90e-4822-9123-73627140da18"
      },
      "execution_count": null,
      "outputs": [
        {
          "output_type": "stream",
          "name": "stdout",
          "text": [
            "Notas individuais de cada aluna da turma é [[5, 7.8, 9], [8, 6.5, 7], [9, 9.2, 8], [7, 8.5, 6], [6, 7.5, 5]], respectivamente.\n",
            "A média de cada aluna é [7.266666666666667, 7.166666666666667, 8.733333333333333, 7.166666666666667, 6.166666666666667], respectivamente.\n",
            "A média da turma é 7.3\n",
            "Tamanho da lista aluna 3\n",
            "O índice do centro da lista aluna é 1\n",
            "A mediana das respectivas alunas é:\n",
            "7.8\n",
            "7\n",
            "9\n",
            "7\n",
            "6\n",
            " todas as notas ordenandas: \n",
            "[5, 5, 6, 6, 6.5, 7, 7, 7.5, 7.8, 8, 8, 8.5, 9, 9, 9.2]\n",
            " tamanho da turma 15\n",
            "O índice do centro da lista turma é 7\n",
            "A mediana da turma é:\n",
            "7.5\n",
            "A frequência de cada número na lista turma é \n",
            "{5: 2, 7.8: 1, 9: 2, 6.5: 1, 7: 2, 8: 2, 9.2: 1, 6: 2, 8.5: 1, 7.5: 1}\n",
            "Os números que mais se repetem, modas, na lista: \n",
            "[[5, 7.8, 9], [6.5, 7, 8], [8, 9, 9.2], [6, 7, 8.5], [5, 6, 7.5]] são: \n",
            "[5, 9, 7, 8, 6]\n"
          ]
        }
      ]
    },
    {
      "cell_type": "markdown",
      "source": [
        "####Exercício 7: Análise de Vendas de Produtos\n",
        "Uma loja registrou o número de unidades vendidas de diferentes produtos ao\n",
        "longo de uma semana.\n",
        "Cada produto tem um código único e o número de unidades vendidas é\n",
        "registrado em uma lista. Escreva um programa em Python que:\n",
        "1. Calcule a média aritmética das unidades vendidas.\n",
        "2. Encontre a mediana das unidades vendidas.\n",
        "3. Identifique o produto mais vendido (moda)."
      ],
      "metadata": {
        "id": "Zv47V6QpRt8w"
      }
    },
    {
      "cell_type": "code",
      "source": [
        "Id001 = [4, 3, 0, 2, 5, 5]\n",
        "Id002 = [0, 0, 2, 6, 4, 4]\n",
        "Id003 = [5, 2, 0, 0, 1, 0]\n",
        "Id004 = [0, 1, 3, 1, 4, 0]\n",
        "Id005 = [10, 8, 6, 3, 2, 10]\n",
        "vendas = [Id001, Id002, Id003, Id004, Id005]\n",
        "\n",
        "media = []\n",
        "for id in vendas:\n",
        "  media.append(sum(id) / len(id))\n",
        "print(f\"A média de cada unidade vendida é {media}, respectivamente.\")\n",
        "\n",
        "#Mediana\n",
        "for id in vendas:\n",
        "    id.sort()\n",
        "    print(id)\n",
        "    tam_id = len(id)\n",
        "    dados_central_id = tam_id // 2\n",
        "\n",
        "    if tam_id % 2 == 0:\n",
        "        mediana_id = (id[dados_central_id - 1] + id[dados_central_id]) / 2\n",
        "    else:\n",
        "        mediana_id = id[dados_central_id]\n",
        "    print(f'A mediana das notas acima é: {mediana_id}')\n",
        "\n",
        "print('Soma das vendas dos Ids na respectiva ordem:')\n",
        "for id in vendas:\n",
        "   soma = (sum(id))\n",
        "   id_mais_vendido = max(vendas)\n",
        "   print(soma)\n",
        "print(f'Lista das vendas do Id mais vendido \\n{id_mais_vendido}')\n",
        "print(f'totalizando {soma} produtos vendidos')\n",
        "\n",
        "\n",
        "\n"
      ],
      "metadata": {
        "colab": {
          "base_uri": "https://localhost:8080/"
        },
        "id": "hkwoFBn4SPve",
        "outputId": "255db0ff-3aba-431a-f268-575eb69d6e86"
      },
      "execution_count": null,
      "outputs": [
        {
          "output_type": "stream",
          "name": "stdout",
          "text": [
            "A média de cada unidade vendida é [3.1666666666666665, 2.6666666666666665, 1.3333333333333333, 1.5, 6.5], respectivamente.\n",
            "[0, 2, 3, 4, 5, 5]\n",
            "A mediana das notas acima é: 3.5\n",
            "[0, 0, 2, 4, 4, 6]\n",
            "A mediana das notas acima é: 3.0\n",
            "[0, 0, 0, 1, 2, 5]\n",
            "A mediana das notas acima é: 0.5\n",
            "[0, 0, 1, 1, 3, 4]\n",
            "A mediana das notas acima é: 1.0\n",
            "[2, 3, 6, 8, 10, 10]\n",
            "A mediana das notas acima é: 7.0\n",
            "Soma das vendas dos Ids na respectiva ordem:\n",
            "19\n",
            "16\n",
            "8\n",
            "9\n",
            "39\n",
            "Lista das vendas do Id mais vendido \n",
            "[2, 3, 6, 8, 10, 10]\n",
            "totalizando 39 produtos vendidos\n"
          ]
        }
      ]
    },
    {
      "cell_type": "markdown",
      "source": [
        "####Exercício 8: Análise de Temperaturas\n",
        "Você foi contratado para analisar dados meteorológicos.\n",
        "Você tem uma lista com as temperaturas registradas em uma cidade durante\n",
        "um mês. Escreva um programa em Python que:\n",
        "1. Calcule a média aritmética das temperaturas.\n",
        "2. Encontre a mediana das temperaturas.\n",
        "3. Determine a moda das temperaturas (se houver)."
      ],
      "metadata": {
        "id": "_ZUfhiKnCKw7"
      }
    },
    {
      "cell_type": "code",
      "source": [
        "temp1 = [25, 28, 25, 27, 27, 31, 35, 33, 31, 36]\n",
        "temp2 = [25, 34, 25, 29, 36, 34, 25, 34, 30, 29]\n",
        "temp3 = [34, 33, 25, 28, 31, 31, 26, 32, 27, 32]\n",
        "temp4 = [30, 28, 36, 25, 29, 29, 36, 30, 25, 25]\n",
        "temp5 = [32, 36, 36, 30, 35, 30, 35, 36, 26, 27]\n",
        "temp6 = [26, 36, 36, 29, 28, 26, 26, 24, 30, 26]\n",
        "temp7 = [33, 35, 36, 36, 28, 28, 33, 29, 26, 26]\n",
        "temp8 = [33, 28, 33, 32, 27, 36, 32, 32, 36, 26]\n",
        "temp9 = [28, 35, 26, 26, 24, 34, 26, 36, 24, 36]\n",
        "temp10 = [31, 26, 29, 24, 24, 24, 29, 34, 28, 31]\n",
        "temp11 = [31, 32, 32, 35, 35, 26, 29, 25, 26, 36]\n",
        "temp12 = [36, 36, 35, 27, 28, 26, 33, 27, 25, 24]\n",
        "temp13 = [33, 35, 29, 35, 28, 35, 36, 30, 28, 29]\n",
        "temp14 = [33, 25, 27, 29, 35, 27, 24, 28, 36, 28]\n",
        "temp15 = [29, 33, 28, 26, 35, 33, 32, 30, 27, 32]\n",
        "temp16 = [33, 35, 34, 25, 27, 25, 36, 31, 34, 24]\n",
        "temp17 = [26, 32, 24, 27, 32, 34, 33, 31, 29, 29]\n",
        "temp18 = [30, 27, 25, 31, 34, 36, 30, 31, 34, 26]\n",
        "temp19 = [31, 35, 25, 29, 27, 36, 26, 30, 36, 32]\n",
        "temp20 = [36, 26, 36, 31, 36, 30, 27, 35, 25, 28]\n",
        "temp21 = [26, 27, 34, 30, 26, 33, 34, 30, 32, 34]\n",
        "temp22 = [26, 29, 24, 31, 25, 35, 26, 29, 36, 27]\n",
        "temp23 = [33, 34, 30, 24, 33, 30, 36, 36, 24, 34]\n",
        "temp24 = [26, 33, 25, 35, 30, 25, 25, 31, 27, 24]\n",
        "temp25 = [36, 33, 29, 36, 28, 27, 26, 27, 25, 35]\n",
        "temp26 = [28, 31, 29, 31, 33, 31, 28, 31, 31, 24]\n",
        "temp27 = [35, 25, 26, 34, 26, 33, 24, 36, 31, 28]\n",
        "temp28 = [36, 30, 33, 34, 28, 25, 34, 35, 30, 28]\n",
        "temp29 = [30, 32, 28, 25, 26, 30, 33, 36, 25, 32]\n",
        "temp30 = [30, 32, 33, 32, 34, 31, 24, 26, 29, 27]\n",
        "\n",
        "temperatura = [temp1, temp2, temp3, temp4, temp5, temp6, temp7, temp8, temp9,\n",
        "              temp10, temp11, temp12, temp13, temp14, temp15, temp16, temp17,\n",
        "              temp18, temp19, temp20, temp21, temp22, temp23, temp24, temp25,\n",
        "              temp26, temp27, temp28, temp29, temp30]\n",
        "\n",
        "media = []\n",
        "for temp in temperatura:\n",
        "  media.append(sum(temp) / len(temp))\n",
        "print(f\"A temperatura média de cada dia é \\n {media}\")\n",
        "\n",
        "media_total = sum(media) / len(media)\n",
        "print(f'A temperatura média do mês é {media_total}')\n",
        "\n",
        "for temp in temperatura:\n",
        "  temp.sort()\n",
        "  print(temp)\n",
        "  tam_temp = len(temp)\n",
        "  dados_central_temp = tam_temp // 2\n",
        "  if tam_temp % 2 == 0:\n",
        "    mediana_temp = (temp[dados_central_temp - 1] + temp[dados_central_temp]) / 2\n",
        "  else:\n",
        "    mediana_temp = temp[dados_central_temp]\n",
        "  print(f'A mediana das temperaturas acima é: {mediana_temp}')\n",
        "\n",
        "media.sort()\n",
        "print(media)\n",
        "tam_media = len(media)\n",
        "dados_central_media = tam_media // 2\n",
        "if tam_media % 2 == 0:\n",
        "  mediana_media = (media[dados_central_media - 1] + media[dados_central_media]) / 2\n",
        "else:\n",
        "  mediana_media = media[dados_central_media]\n",
        "print(f'A mediana das temperaturas média diárias do mês é: {mediana_media}')\n",
        "\n",
        "freq = {}\n",
        "for temp in temperatura:\n",
        "  for num in temp:\n",
        "    if num in freq:\n",
        "      freq[num] += 1\n",
        "    else:\n",
        "      freq[num] = 1\n",
        "\n",
        "print(f'A frequência de cada número na lista temperatura é \\n{freq}')\n",
        "max_freq = max(freq.values())\n",
        "moda = [num for num, frequencia in freq.items() if frequencia == max_freq]\n",
        "print('Os números que mais se repetem, moda, na lista temperatura são: \\n{}'.format(moda))\n"
      ],
      "metadata": {
        "colab": {
          "base_uri": "https://localhost:8080/"
        },
        "id": "flpXzOjlCEsE",
        "outputId": "bec5d95c-2012-4146-a64e-f4c003ca8ae9"
      },
      "execution_count": null,
      "outputs": [
        {
          "output_type": "stream",
          "name": "stdout",
          "text": [
            "A temperatura média de cada dia é \n",
            " [29.8, 30.1, 29.9, 29.3, 32.3, 28.7, 31.0, 31.5, 29.5, 28.0, 30.7, 29.7, 31.8, 29.2, 30.5, 30.4, 29.7, 30.4, 30.7, 31.0, 30.6, 28.8, 31.4, 28.1, 30.2, 29.7, 29.8, 31.3, 29.7, 29.8]\n",
            "A temperatura média do mês é 30.12\n",
            "[25, 25, 27, 27, 28, 31, 31, 33, 35, 36]\n",
            "A mediana das temperaturas acima é: 29.5\n",
            "[25, 25, 25, 29, 29, 30, 34, 34, 34, 36]\n",
            "A mediana das temperaturas acima é: 29.5\n",
            "[25, 26, 27, 28, 31, 31, 32, 32, 33, 34]\n",
            "A mediana das temperaturas acima é: 31.0\n",
            "[25, 25, 25, 28, 29, 29, 30, 30, 36, 36]\n",
            "A mediana das temperaturas acima é: 29.0\n",
            "[26, 27, 30, 30, 32, 35, 35, 36, 36, 36]\n",
            "A mediana das temperaturas acima é: 33.5\n",
            "[24, 26, 26, 26, 26, 28, 29, 30, 36, 36]\n",
            "A mediana das temperaturas acima é: 27.0\n",
            "[26, 26, 28, 28, 29, 33, 33, 35, 36, 36]\n",
            "A mediana das temperaturas acima é: 31.0\n",
            "[26, 27, 28, 32, 32, 32, 33, 33, 36, 36]\n",
            "A mediana das temperaturas acima é: 32.0\n",
            "[24, 24, 26, 26, 26, 28, 34, 35, 36, 36]\n",
            "A mediana das temperaturas acima é: 27.0\n",
            "[24, 24, 24, 26, 28, 29, 29, 31, 31, 34]\n",
            "A mediana das temperaturas acima é: 28.5\n",
            "[25, 26, 26, 29, 31, 32, 32, 35, 35, 36]\n",
            "A mediana das temperaturas acima é: 31.5\n",
            "[24, 25, 26, 27, 27, 28, 33, 35, 36, 36]\n",
            "A mediana das temperaturas acima é: 27.5\n",
            "[28, 28, 29, 29, 30, 33, 35, 35, 35, 36]\n",
            "A mediana das temperaturas acima é: 31.5\n",
            "[24, 25, 27, 27, 28, 28, 29, 33, 35, 36]\n",
            "A mediana das temperaturas acima é: 28.0\n",
            "[26, 27, 28, 29, 30, 32, 32, 33, 33, 35]\n",
            "A mediana das temperaturas acima é: 31.0\n",
            "[24, 25, 25, 27, 31, 33, 34, 34, 35, 36]\n",
            "A mediana das temperaturas acima é: 32.0\n",
            "[24, 26, 27, 29, 29, 31, 32, 32, 33, 34]\n",
            "A mediana das temperaturas acima é: 30.0\n",
            "[25, 26, 27, 30, 30, 31, 31, 34, 34, 36]\n",
            "A mediana das temperaturas acima é: 30.5\n",
            "[25, 26, 27, 29, 30, 31, 32, 35, 36, 36]\n",
            "A mediana das temperaturas acima é: 30.5\n",
            "[25, 26, 27, 28, 30, 31, 35, 36, 36, 36]\n",
            "A mediana das temperaturas acima é: 30.5\n",
            "[26, 26, 27, 30, 30, 32, 33, 34, 34, 34]\n",
            "A mediana das temperaturas acima é: 31.0\n",
            "[24, 25, 26, 26, 27, 29, 29, 31, 35, 36]\n",
            "A mediana das temperaturas acima é: 28.0\n",
            "[24, 24, 30, 30, 33, 33, 34, 34, 36, 36]\n",
            "A mediana das temperaturas acima é: 33.0\n",
            "[24, 25, 25, 25, 26, 27, 30, 31, 33, 35]\n",
            "A mediana das temperaturas acima é: 26.5\n",
            "[25, 26, 27, 27, 28, 29, 33, 35, 36, 36]\n",
            "A mediana das temperaturas acima é: 28.5\n",
            "[24, 28, 28, 29, 31, 31, 31, 31, 31, 33]\n",
            "A mediana das temperaturas acima é: 31.0\n",
            "[24, 25, 26, 26, 28, 31, 33, 34, 35, 36]\n",
            "A mediana das temperaturas acima é: 29.5\n",
            "[25, 28, 28, 30, 30, 33, 34, 34, 35, 36]\n",
            "A mediana das temperaturas acima é: 31.5\n",
            "[25, 25, 26, 28, 30, 30, 32, 32, 33, 36]\n",
            "A mediana das temperaturas acima é: 30.0\n",
            "[24, 26, 27, 29, 30, 31, 32, 32, 33, 34]\n",
            "A mediana das temperaturas acima é: 30.5\n",
            "[28.0, 28.1, 28.7, 28.8, 29.2, 29.3, 29.5, 29.7, 29.7, 29.7, 29.7, 29.8, 29.8, 29.8, 29.9, 30.1, 30.2, 30.4, 30.4, 30.5, 30.6, 30.7, 30.7, 31.0, 31.0, 31.3, 31.4, 31.5, 31.8, 32.3]\n",
            "A mediana das temperaturas média diárias do mês é: 30.0\n",
            "A frequência de cada número na lista temperatura é \n",
            "{25: 26, 27: 21, 28: 23, 31: 22, 33: 23, 35: 21, 36: 35, 29: 21, 30: 22, 34: 20, 26: 31, 32: 18, 24: 17}\n",
            "Os números que mais se repetem, moda, na lista temperatura são: \n",
            "[36]\n"
          ]
        }
      ]
    },
    {
      "cell_type": "markdown",
      "source": [
        "####Exercício 9:\n",
        "Você tem a seguinte amostra de dados: \\([12, 15, 20, 22, 30]\\).\n",
        "Calcule a variância amostral e o desvio padrão amostral usando Python.\n"
      ],
      "metadata": {
        "id": "0kUcZlX9OU0n"
      }
    },
    {
      "cell_type": "code",
      "source": [
        "import math\n",
        "amostra = [12, 15, 20, 22, 30]\n",
        "media = sum(amostra) / len(amostra)\n",
        "print(f'A média da amostra é {media}')\n",
        "#Calcula a soma dos quadrados das diferenças entre cada número `x` e a média `media`\n",
        "#`** 2` eleva a diferença ao quadrado\n",
        "soma_quadrados_diferencas = sum([(x - media) ** 2 for x in amostra])\n",
        "print(f'A soma dos quadrados das diferenças entre cada número é {soma_quadrados_diferencas}')\n",
        "variancia = soma_quadrados_diferencas / (len(amostra) - 1)\n",
        "print(f'A variância da amostra é {variancia}')\n",
        "desvpad = math.sqrt(variancia)\n",
        "print(f'O desvio padrão da amostra é {desvpad}')\n"
      ],
      "metadata": {
        "colab": {
          "base_uri": "https://localhost:8080/"
        },
        "id": "zcPOG77EOgoV",
        "outputId": "fb110a7f-9aaa-46aa-86ea-ead28c8d723c"
      },
      "execution_count": null,
      "outputs": [
        {
          "output_type": "stream",
          "name": "stdout",
          "text": [
            "A média da amostra é 19.8\n",
            "A soma dos quadrados das diferenças entre cada número é 192.8\n",
            "A variância da amostra é 48.2\n",
            "O desvio padrão da amostra é 6.942621983083913\n"
          ]
        }
      ]
    },
    {
      "cell_type": "markdown",
      "source": [
        "\n",
        "####Exercício 10:\n",
        "Dada a amostra de dados \\([5, 7, 9, 10, 15, 18]\\), calcule a\n",
        "variância amostral e o desvio padrão amostral.\n"
      ],
      "metadata": {
        "id": "3eQH1R8P7-sP"
      }
    },
    {
      "cell_type": "code",
      "source": [
        "import math\n",
        "amostra = [5, 7, 9, 10, 15, 18]\n",
        "media = sum(amostra) / len(amostra)\n",
        "print(f'A média da amostra é {media}')\n",
        "soma_quadrados_diferencas = sum([(x - media) ** 2 for x in amostra])\n",
        "print(f'A soma dos quadrados das diferenças entre cada número é {soma_quadrados_diferencas}')\n",
        "variancia = soma_quadrados_diferencas / (len(amostra) - 1)\n",
        "print(f'A variância da amostra é {variancia}')\n",
        "desvpad = math.sqrt(variancia)\n",
        "print(f'O desvio padrão da amostra é {desvpad}')"
      ],
      "metadata": {
        "colab": {
          "base_uri": "https://localhost:8080/"
        },
        "id": "5rTnggFH8UKS",
        "outputId": "5cf3b9de-dacd-4d03-8fd4-0e2c11695b65"
      },
      "execution_count": null,
      "outputs": [
        {
          "output_type": "stream",
          "name": "stdout",
          "text": [
            "A média da amostra é 10.666666666666666\n",
            "A soma dos quadrados das diferenças entre cada número é 121.33333333333333\n",
            "A variância da amostra é 24.266666666666666\n",
            "O desvio padrão da amostra é 4.926120853842978\n"
          ]
        }
      ]
    },
    {
      "cell_type": "markdown",
      "source": [
        "####Exercício 11:\n",
        "Considere a amostra \\([23, 29, 31, 35, 40, 42, 50]\\). Determine a\n",
        "variância amostral e o desvio padrão amostral.\n"
      ],
      "metadata": {
        "id": "Cr-an5Rb8Fnl"
      }
    },
    {
      "cell_type": "code",
      "source": [
        "import math\n",
        "amostra = [23, 29, 31, 35, 40, 42, 50]\n",
        "media = sum(amostra) / len(amostra)\n",
        "print(f'A média da amostra é {media}')\n",
        "soma_quadrados_diferencas = sum([(x - media) ** 2 for x in amostra])\n",
        "print(f'A soma dos quadrados das diferenças entre cada número é {soma_quadrados_diferencas}')\n",
        "variancia = soma_quadrados_diferencas / (len(amostra) - 1)\n",
        "print(f'A variância da amostra é {variancia}')\n",
        "desvpad = math.sqrt(variancia)\n",
        "print(f'O desvio padrão da amostra é {desvpad}')"
      ],
      "metadata": {
        "colab": {
          "base_uri": "https://localhost:8080/"
        },
        "id": "9h67For28xzY",
        "outputId": "be409688-9bc9-4a75-bcb6-064e20c6454b"
      },
      "execution_count": null,
      "outputs": [
        {
          "output_type": "stream",
          "name": "stdout",
          "text": [
            "A média da amostra é 35.714285714285715\n",
            "A soma dos quadrados das diferenças entre cada número é 491.42857142857144\n",
            "A variância da amostra é 81.90476190476191\n",
            "O desvio padrão da amostra é 9.050124966251124\n"
          ]
        }
      ]
    },
    {
      "cell_type": "markdown",
      "source": [
        "####Exercício 12:\n",
        "Para a amostra \\([3, 6, 8, 10, 12, 14, 16, 18]\\), calcule a variância\n",
        "amostral e o desvio padrão amostral.\n"
      ],
      "metadata": {
        "id": "SFnuo6rG8LX8"
      }
    },
    {
      "cell_type": "code",
      "source": [
        "import math\n",
        "amostra = [3, 6, 8, 10, 12, 14, 16, 18]\n",
        "media = sum(amostra) / len(amostra)\n",
        "print(f'A média da amostra é {media}')\n",
        "soma_quadrados_diferencas = sum([(x - media) ** 2 for x in amostra])\n",
        "print(f'A soma dos quadrados das diferenças entre cada número é {soma_quadrados_diferencas}')\n",
        "variancia = soma_quadrados_diferencas / (len(amostra) - 1)\n",
        "print(f'A variância da amostra é {variancia}')\n",
        "desvpad = math.sqrt(variancia)\n",
        "print(f'O desvio padrão da amostra é {desvpad}')"
      ],
      "metadata": {
        "colab": {
          "base_uri": "https://localhost:8080/"
        },
        "id": "W6-oMU2E9KiI",
        "outputId": "c57f15eb-87dc-426e-d831-b1aaebfd00e7"
      },
      "execution_count": null,
      "outputs": [
        {
          "output_type": "stream",
          "name": "stdout",
          "text": [
            "A média da amostra é 10.875\n",
            "A soma dos quadrados das diferenças entre cada número é 182.875\n",
            "A variância da amostra é 26.125\n",
            "O desvio padrão da amostra é 5.111262075065218\n"
          ]
        }
      ]
    },
    {
      "cell_type": "markdown",
      "source": [
        "####Exercício 13:\n",
        "Dada a amostra \\([50, 52, 55, 57, 60, 62, 65, 68, 70, 72]\\), calcule\n",
        "a variância amostral e o desvio padrão amostral."
      ],
      "metadata": {
        "id": "ZBwr0T_B8Q7u"
      }
    },
    {
      "cell_type": "code",
      "source": [
        "import math\n",
        "amostra = [50, 52, 55, 57, 60, 62, 65, 68, 70, 72]\n",
        "media = sum(amostra) / len(amostra)\n",
        "print(f'A média da amostra é {media}')\n",
        "soma_quadrados_diferencas = sum((x - media) ** 2 for x in amostra )\n",
        "print(f'A soma dos quadrados das diferenças entre cada número é {soma_quadrados_diferencas}')\n",
        "variancia = soma_quadrados_diferencas / (len(amostra))\n",
        "print(f'A variância da amostra é {variancia}')\n",
        "desvpad = math.sqrt(variancia)\n",
        "print(f'O desvio padrão da amostra é {desvpad}')"
      ],
      "metadata": {
        "colab": {
          "base_uri": "https://localhost:8080/"
        },
        "id": "wnDOlRKQ9edF",
        "outputId": "d53bbb62-cc05-433f-db52-4182ffde3685"
      },
      "execution_count": null,
      "outputs": [
        {
          "output_type": "stream",
          "name": "stdout",
          "text": [
            "A média da amostra é 61.1\n",
            "A soma dos quadrados das diferenças entre cada número é 522.9\n",
            "A variância da amostra é 52.29\n",
            "O desvio padrão da amostra é 7.23118247591637\n"
          ]
        }
      ]
    },
    {
      "cell_type": "markdown",
      "source": [
        "####Exercício 14:\n",
        "Suponha que em uma urna há 3 bolas vermelhas e 2 bolas azuis.\n",
        "Qual é a probabilidade de retirar uma bola vermelha ou uma bola azul?\n",
        "Resolva e escreva o programa em Python.\n"
      ],
      "metadata": {
        "id": "7-BaPiLn95aJ"
      }
    },
    {
      "cell_type": "code",
      "source": [
        "'''\n",
        "bola = {'vermelha': 3, 'azul': 2}\n",
        "prob_vermelha = 3/5\n",
        "prob_azul = 2/5\n",
        "prob_bola = 3/5 + 2/5\n",
        "\n",
        "###**Qual é a probabilidade de obter um número ímpar em um lançamento de um dado padrão?**\n",
        "#Um dado padrão tem 6 faces, das quais 3 são ímpares (1, 3, 5). Assim, a probabilidade é 3/6 = 1/2 ou 50%.\n",
        "prob_impar = 3 / 6\n",
        "print(f\"Probabilidade de obter um número ímpar: {prob_impar * 100}%\")\n",
        "'''\n",
        "import random\n",
        "urna = ['red1', 'red2', 'red3', 'blue1', 'blue2']\n",
        "tam_amostra = 5\n",
        "amostra = random.sample(urna, tam_amostra)\n",
        "print(amostra)\n",
        "prob_vermelha = 3 / 5\n",
        "prob_azul = 2 / 5\n",
        "prob_bola = prob_vermelha + prob_azul\n",
        "print(f\"Probabilidade de retirar uma bola vermelha é de {prob_vermelha* 100}%. \\nEnquanto de retirar uma bola azul é {prob_azul * 100}%\")\n",
        "print('A probabilidade de tirar uma bola azul ou vermelha é de 100%')"
      ],
      "metadata": {
        "colab": {
          "base_uri": "https://localhost:8080/"
        },
        "id": "QfSTab-2-S6L",
        "outputId": "c8a5ee3b-9bc9-486d-fe2f-358bb23250ec"
      },
      "execution_count": 1,
      "outputs": [
        {
          "output_type": "stream",
          "name": "stdout",
          "text": [
            "['red2', 'red1', 'blue2', 'red3', 'blue1']\n",
            "Probabilidade de retirar uma bola vermelha é de 60.0%. \n",
            "Enquanto de retirar uma bola azul é 40.0%\n",
            "A probabilidade de tirar uma bola azul ou vermelha é de 100%\n"
          ]
        }
      ]
    },
    {
      "cell_type": "markdown",
      "source": [
        "####Exercício 15:\n",
        "Um dado justo de 6 faces é lançado. Qual é a probabilidade de\n",
        "obter um número par ou um número menor que 4?\n",
        "Resolva e escreva o programa em Python.\n"
      ],
      "metadata": {
        "id": "VgMNqnf1-AsC"
      }
    },
    {
      "cell_type": "code",
      "source": [
        "dado = [1, 2, 3, 4, 5, 6]\n",
        "tam_dado = len(dado)\n",
        "selecao = [1, 2, 3, 4, 6]\n",
        "tam_selecao = len(selecao)\n",
        "prob_selecao = tam_selecao / tam_dado\n",
        "print(f\"Probabilidade de obter um número par ou um número menor que 4 é de {prob_selecao * 100}%\")"
      ],
      "metadata": {
        "colab": {
          "base_uri": "https://localhost:8080/"
        },
        "id": "9K9nP2n61z12",
        "outputId": "8c5a5972-8188-4354-d818-3928ca3bad5b"
      },
      "execution_count": null,
      "outputs": [
        {
          "output_type": "stream",
          "name": "stdout",
          "text": [
            "Probabilidade de obter um número par ou um número menor que 4 é de 83.33333333333334%\n"
          ]
        }
      ]
    },
    {
      "cell_type": "markdown",
      "source": [
        "####Exercício 16:\n",
        "Uma caixa contém 10 bilhetes numerados de 1 a 10.\n",
        "Qual é a probabilidade de retirar um bilhete que tenha um número menor que 4\n",
        "ou um número maior que 7? Resolva e escreva o programa em Python.\n",
        "."
      ],
      "metadata": {
        "id": "Hg6_nL2y-FRS"
      }
    },
    {
      "cell_type": "code",
      "source": [
        "caixa = [1, 2, 3, 4, 5, 6, 7, 8, 9, 10]\n",
        "tam_caixa = len(caixa)\n",
        "bilhete = [1, 2, 3, 8, 9, 10]\n",
        "tam_bilhete = len(bilhete)\n",
        "prob_bilhete = tam_bilhete / tam_caixa\n",
        "print(f\"Probabilidade de retirar um bilhete que tenha um número menor que 4 ou um número maior que 7 é de {prob_bilhete * 100}%\")\n"
      ],
      "metadata": {
        "colab": {
          "base_uri": "https://localhost:8080/"
        },
        "id": "eDTesEM_2gSs",
        "outputId": "62f13c28-17ef-4562-9b45-c2b0c8293eaf"
      },
      "execution_count": null,
      "outputs": [
        {
          "output_type": "stream",
          "name": "stdout",
          "text": [
            "Probabilidade de retirar um bilhete que tenha um número menor que 4 ou um número maior que 7 é de 60.0%\n"
          ]
        }
      ]
    },
    {
      "cell_type": "markdown",
      "source": [
        "####Exercício 17:\n",
        "Você lança uma moeda justa e, em seguida, lança um dado justo.\n",
        "Qual é a probabilidade de obter cara na moeda e um número maior que 4 no\n",
        "dado? Resolva e escreva o programa em Python"
      ],
      "metadata": {
        "id": "jrsWsONA-NLa"
      }
    },
    {
      "cell_type": "code",
      "source": [
        "moeda = ['cara', 'coroa']\n",
        "tam_moeda = len(moeda)\n",
        "prob_moeda = 1/tam_moeda\n",
        "dado = [1, 2, 3, 4, 5, 6]\n",
        "tam_dado = len(dado)\n",
        "prob_dado = 2/tam_dado\n",
        "prob_selecao = prob_moeda * prob_dado\n",
        "print(f\"Probabilidade de obter cara na moeda e um número maior que 4 no dado é de {prob_selecao * 100}%\")\n"
      ],
      "metadata": {
        "colab": {
          "base_uri": "https://localhost:8080/"
        },
        "id": "M1PjpC5l3NKp",
        "outputId": "40e08048-4599-4878-974a-b64d7fde368c"
      },
      "execution_count": null,
      "outputs": [
        {
          "output_type": "stream",
          "name": "stdout",
          "text": [
            "Probabilidade de obter cara na moeda e um número maior que 4 no dado é de 16.666666666666664%\n"
          ]
        }
      ]
    },
    {
      "cell_type": "code",
      "source": [
        "prob_m = 1/2\n",
        "prob_d = 2/6\n",
        "prob_m_d = 1/2 * 2/6\n",
        "print(f\"Probabilidade de obter cara na moeda e um número maior que 4 no dado é de {prob_m_d * 100}%\")\n"
      ],
      "metadata": {
        "colab": {
          "base_uri": "https://localhost:8080/"
        },
        "id": "q1athBkV37dL",
        "outputId": "d36e3274-6118-42e9-dd97-05a24ac39815"
      },
      "execution_count": null,
      "outputs": [
        {
          "output_type": "stream",
          "name": "stdout",
          "text": [
            "Probabilidade de obter cara na moeda e um número maior que 4 no dado é de 16.666666666666664%\n"
          ]
        }
      ]
    },
    {
      "cell_type": "markdown",
      "source": [
        "####Exercício 18:\n",
        "Você escolhe uma peça de roupa aleatoriamente de um armário\n",
        "e, em seguida, escolhe uma peça de calçado aleatoriamente de um sapateiro.\n",
        "Se o armário tem 10 camisetas e o sapateiro tem 8 pares de sapato, qual é a\n",
        "probabilidade de escolher uma camiseta de cor azul e um par de sapatos\n",
        "pretos?\n"
      ],
      "metadata": {
        "id": "rLyNgUde6swI"
      }
    },
    {
      "cell_type": "code",
      "source": [
        "armario = 1/10\n",
        "sapateiro = 1/8\n",
        "prob_selecao = armario * sapateiro\n",
        "print(f\"Probabilidade de escolher uma camiseta de cor azul e um par de sapatos pretos é de {prob_selecao * 100}%\")"
      ],
      "metadata": {
        "colab": {
          "base_uri": "https://localhost:8080/"
        },
        "id": "zeFKdji666gq",
        "outputId": "615c9042-f402-43ec-838c-2dc123889ee0"
      },
      "execution_count": null,
      "outputs": [
        {
          "output_type": "stream",
          "name": "stdout",
          "text": [
            "Probabilidade de escolher uma camiseta de cor azul e um par de sapatos pretos é de 1.25%\n"
          ]
        }
      ]
    },
    {
      "cell_type": "markdown",
      "source": [
        "####Exercício 19:\n",
        "Você tem uma lista de 1000 números inteiros aleatórios entre 1 e\n",
        "1000.\n",
        "Pegue uma amostra de 50 números dessa lista. Calcule a média e o desvio\n",
        "padrão da amostra.\n",
        "Escreva o programa em Python.\n"
      ],
      "metadata": {
        "id": "7-FdxQKz6yv4"
      }
    },
    {
      "cell_type": "code",
      "source": [
        "import random\n",
        "import math\n",
        "amostra = random.sample(range(1, 1001), 50)\n",
        "print(amostra)\n",
        "media = sum(amostra) / len(amostra)\n",
        "print(f'A média da amostra é {media}')\n",
        "variancia = sum([(x - media) ** 2 for x in amostra]) / (len(amostra))\n",
        "print(f'A variância da amostra é {variancia}')\n",
        "desvpad = math.sqrt(variancia)\n",
        "print(f'O desvio padrão da amostra é {desvpad}')\n"
      ],
      "metadata": {
        "colab": {
          "base_uri": "https://localhost:8080/"
        },
        "id": "V4wP1VSU75dx",
        "outputId": "0a89885c-225e-4f70-97ce-d3926a83c16a"
      },
      "execution_count": null,
      "outputs": [
        {
          "output_type": "stream",
          "name": "stdout",
          "text": [
            "[62, 39, 597, 491, 296, 809, 570, 786, 263, 885, 841, 147, 271, 59, 752, 983, 567, 586, 394, 318, 245, 1, 2, 34, 717, 628, 671, 874, 880, 914, 47, 608, 605, 487, 258, 474, 575, 67, 119, 581, 622, 961, 788, 15, 269, 626, 44, 336, 966, 816]\n",
            "A média da amostra é 478.92\n",
            "A variância da amostra é 95740.87360000004\n",
            "O desvio padrão da amostra é 309.42022170504634\n"
          ]
        }
      ]
    },
    {
      "cell_type": "markdown",
      "source": [
        "####Exercício 20:\n",
        "Considere uma população com 3 grupos (A, B, C) com tamanhos\n",
        "diferentes: A (100), B (200), C (300).\n",
        "Faça uma amostra estratificada onde você tira 10% de cada grupo.\n",
        "Escreva o programa em Python."
      ],
      "metadata": {
        "id": "IbnqjjG162wB"
      }
    },
    {
      "cell_type": "code",
      "source": [
        "import random\n",
        "popA = (range(1, 101))\n",
        "popB = (range(1, 201))\n",
        "popC = (range(1, 301))\n",
        "amostra_a = random.sample(popA, 10)\n",
        "amostra_b = random.sample(popB, 20)\n",
        "amostra_c = random.sample(popC, 30)\n",
        "print(f'Amostra estratificada (10% por população): \\nPopulação A:{amostra_a} \\nPopulação B:{amostra_b} \\nPopulação C:{amostra_c}')\n"
      ],
      "metadata": {
        "colab": {
          "base_uri": "https://localhost:8080/"
        },
        "id": "zEKPj5XrCohi",
        "outputId": "3f6a4270-b323-4fd9-ae52-4aedb69f568d"
      },
      "execution_count": null,
      "outputs": [
        {
          "output_type": "stream",
          "name": "stdout",
          "text": [
            "Amostra estratificada (10% por população): \n",
            "População A:[32, 70, 100, 63, 3, 61, 93, 81, 59, 83] \n",
            "População B:[170, 194, 180, 63, 138, 126, 10, 142, 152, 168, 169, 89, 64, 78, 144, 5, 184, 4, 84, 29] \n",
            "População C:[131, 145, 242, 58, 37, 97, 172, 10, 163, 275, 263, 22, 134, 57, 40, 129, 127, 153, 230, 164, 210, 65, 64, 151, 20, 99, 94, 262, 205, 25]\n"
          ]
        }
      ]
    },
    {
      "cell_type": "markdown",
      "source": [
        "Exercícios Opcionais\n",
        "1. Uma pesquisa está sendo conduzida para entender os hábitos alimentares\n",
        "de diferentes faixas etárias.\n",
        "Identifique as variáveis quantitativas e qualitativas que poderiam ser coletadas\n",
        "e categorize-as.\n",
        "\n",
        "Variáveis qualitativas ou categóricas:\n",
        "*   Tipos de alimentos\n",
        "*   Faixa etária\n",
        "\n",
        "Variáveis quantitativas ou métricas:\n",
        "*   Quantidade de calorias\n",
        "*   Quantidade de frutas\n",
        "\n",
        "\n",
        "\n"
      ],
      "metadata": {
        "id": "C4rK4YbJHqoN"
      }
    },
    {
      "cell_type": "markdown",
      "source": [
        "2. Em um estudo sobre a saúde dos funcionários de uma empresa, foram\n",
        "coletados dados sobre altura, peso, pressão arterial e tipo de alimentação.\n",
        "Classifique cada variável.\n",
        "\n",
        "Variáveis qualitativas ou categóricas:\n",
        "\n",
        "*   tipo de alimentação\n",
        "\n",
        "Variáveis quantitativas ou métricas:\n",
        "\n",
        "*   altura\n",
        "*   peso\n",
        "*   pressão arterial\n",
        "\n",
        "A altura. o peso e a pressão arterial ainda podem ser transformadas em variáveis categóricas se colocadas em faixas e classificadas como baixa, média ou alta para altura, no caso do peso, se utilizar o IMC, e a pressão se classificada como alta ou baixa.\n",
        "\n",
        "\n"
      ],
      "metadata": {
        "id": "c6ovE_iKIIAK"
      }
    }
  ]
}